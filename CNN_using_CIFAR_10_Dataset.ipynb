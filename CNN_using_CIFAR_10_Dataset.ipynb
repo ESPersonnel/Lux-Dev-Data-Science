{
  "nbformat": 4,
  "nbformat_minor": 0,
  "metadata": {
    "colab": {
      "provenance": [],
      "authorship_tag": "ABX9TyPfJZ1SmAri3T8ZuP6WPt3m",
      "include_colab_link": true
    },
    "kernelspec": {
      "name": "python3",
      "display_name": "Python 3"
    },
    "language_info": {
      "name": "python"
    },
    "gpuClass": "standard"
  },
  "cells": [
    {
      "cell_type": "markdown",
      "metadata": {
        "id": "view-in-github",
        "colab_type": "text"
      },
      "source": [
        "<a href=\"https://colab.research.google.com/github/ESPersonnel/Lux-Dev-Data-Science/blob/main/CNN_using_CIFAR_10_Dataset.ipynb\" target=\"_parent\"><img src=\"https://colab.research.google.com/assets/colab-badge.svg\" alt=\"Open In Colab\"/></a>"
      ]
    },
    {
      "cell_type": "code",
      "execution_count": 1,
      "metadata": {
        "colab": {
          "base_uri": "https://localhost:8080/"
        },
        "id": "PRIhSb0U63Rd",
        "outputId": "20e5ca35-8872-4c74-fb4e-2c393b825ce1"
      },
      "outputs": [
        {
          "output_type": "stream",
          "name": "stdout",
          "text": [
            "Downloading data from https://www.cs.toronto.edu/~kriz/cifar-10-python.tar.gz\n",
            "170498071/170498071 [==============================] - 2s 0us/step\n"
          ]
        },
        {
          "output_type": "stream",
          "name": "stderr",
          "text": [
            "WARNING:absl:`lr` is deprecated in Keras optimizer, please use `learning_rate` or use the legacy optimizer, e.g.,tf.keras.optimizers.legacy.SGD.\n"
          ]
        },
        {
          "output_type": "stream",
          "name": "stdout",
          "text": [
            "Epoch 1/20\n",
            "391/391 [==============================] - 12s 7ms/step - loss: 2.2363 - accuracy: 0.1666 - val_loss: 2.1123 - val_accuracy: 0.2551\n",
            "Epoch 2/20\n",
            "391/391 [==============================] - 2s 6ms/step - loss: 2.0649 - accuracy: 0.2410 - val_loss: 1.9707 - val_accuracy: 0.3061\n",
            "Epoch 3/20\n",
            "391/391 [==============================] - 2s 6ms/step - loss: 1.9807 - accuracy: 0.2776 - val_loss: 1.8766 - val_accuracy: 0.3336\n",
            "Epoch 4/20\n",
            "391/391 [==============================] - 2s 6ms/step - loss: 1.8986 - accuracy: 0.3131 - val_loss: 1.7859 - val_accuracy: 0.3735\n",
            "Epoch 5/20\n",
            "391/391 [==============================] - 2s 6ms/step - loss: 1.8200 - accuracy: 0.3402 - val_loss: 1.7008 - val_accuracy: 0.3987\n",
            "Epoch 6/20\n",
            "391/391 [==============================] - 2s 6ms/step - loss: 1.7590 - accuracy: 0.3639 - val_loss: 1.6453 - val_accuracy: 0.4140\n",
            "Epoch 7/20\n",
            "391/391 [==============================] - 2s 5ms/step - loss: 1.7058 - accuracy: 0.3819 - val_loss: 1.5934 - val_accuracy: 0.4328\n",
            "Epoch 8/20\n",
            "391/391 [==============================] - 2s 6ms/step - loss: 1.6626 - accuracy: 0.4011 - val_loss: 1.5383 - val_accuracy: 0.4496\n",
            "Epoch 9/20\n",
            "391/391 [==============================] - 2s 6ms/step - loss: 1.6189 - accuracy: 0.4161 - val_loss: 1.5656 - val_accuracy: 0.4397\n",
            "Epoch 10/20\n",
            "391/391 [==============================] - 2s 6ms/step - loss: 1.5823 - accuracy: 0.4274 - val_loss: 1.4802 - val_accuracy: 0.4708\n",
            "Epoch 11/20\n",
            "391/391 [==============================] - 2s 5ms/step - loss: 1.5553 - accuracy: 0.4400 - val_loss: 1.4727 - val_accuracy: 0.4707\n",
            "Epoch 12/20\n",
            "391/391 [==============================] - 2s 5ms/step - loss: 1.5298 - accuracy: 0.4489 - val_loss: 1.4362 - val_accuracy: 0.4876\n",
            "Epoch 13/20\n",
            "391/391 [==============================] - 2s 6ms/step - loss: 1.5064 - accuracy: 0.4556 - val_loss: 1.4069 - val_accuracy: 0.4985\n",
            "Epoch 14/20\n",
            "391/391 [==============================] - 2s 6ms/step - loss: 1.4847 - accuracy: 0.4668 - val_loss: 1.4221 - val_accuracy: 0.4888\n",
            "Epoch 15/20\n",
            "391/391 [==============================] - 3s 7ms/step - loss: 1.4628 - accuracy: 0.4764 - val_loss: 1.4905 - val_accuracy: 0.4762\n",
            "Epoch 16/20\n",
            "391/391 [==============================] - 2s 6ms/step - loss: 1.4497 - accuracy: 0.4810 - val_loss: 1.3485 - val_accuracy: 0.5185\n",
            "Epoch 17/20\n",
            "391/391 [==============================] - 2s 5ms/step - loss: 1.4304 - accuracy: 0.4889 - val_loss: 1.3609 - val_accuracy: 0.5152\n",
            "Epoch 18/20\n",
            "391/391 [==============================] - 2s 6ms/step - loss: 1.4125 - accuracy: 0.4963 - val_loss: 1.3198 - val_accuracy: 0.5350\n",
            "Epoch 19/20\n",
            "391/391 [==============================] - 2s 5ms/step - loss: 1.4006 - accuracy: 0.5017 - val_loss: 1.3102 - val_accuracy: 0.5328\n",
            "Epoch 20/20\n",
            "391/391 [==============================] - 2s 6ms/step - loss: 1.3804 - accuracy: 0.5075 - val_loss: 1.3140 - val_accuracy: 0.5381\n",
            "313/313 [==============================] - 1s 3ms/step - loss: 1.3140 - accuracy: 0.5381\n",
            "Test accuracy: 0.538100004196167\n"
          ]
        }
      ],
      "source": [
        "import tensorflow as tf\n",
        "from tensorflow.keras.datasets import cifar10\n",
        "from tensorflow.keras.layers import Conv2D, MaxPooling2D, Flatten, Dense, Dropout\n",
        "from tensorflow.keras.models import Sequential\n",
        "from tensorflow.keras.optimizers import SGD\n",
        "from tensorflow.keras.utils import to_categorical\n",
        "\n",
        "# Load CIFAR-10 dataset\n",
        "(x_train, y_train), (x_test, y_test) = cifar10.load_data()\n",
        "\n",
        "# Preprocess data\n",
        "x_train = x_train / 255.0\n",
        "x_test = x_test / 255.0\n",
        "y_train = to_categorical(y_train)\n",
        "y_test = to_categorical(y_test)\n",
        "\n",
        "# Define model architecture\n",
        "model = Sequential([\n",
        "    Conv2D(32, (3, 3), activation='relu', input_shape=(32, 32, 3)),\n",
        "    MaxPooling2D((2, 2)),\n",
        "    Conv2D(64, (3, 3), activation='relu'),\n",
        "    MaxPooling2D((2, 2)),\n",
        "    Flatten(),\n",
        "    Dense(128, activation='relu'),\n",
        "    Dropout(0.5),\n",
        "    Dense(10, activation='softmax')\n",
        "])\n",
        "\n",
        "# Compile model\n",
        "model.compile(optimizer=SGD(lr=0.01), loss='categorical_crossentropy', metrics=['accuracy'])\n",
        "\n",
        "# Train model\n",
        "model.fit(x_train, y_train, epochs=20, batch_size=128, validation_data=(x_test, y_test))\n",
        "\n",
        "# Evaluate model\n",
        "test_loss, test_acc = model.evaluate(x_test, y_test)\n",
        "print('Test accuracy:', test_acc)\n"
      ]
    },
    {
      "cell_type": "code",
      "source": [
        "import tensorflow as tf\n",
        "from tensorflow.keras.datasets import cifar10\n",
        "from tensorflow.keras.applications.densenet import DenseNet121\n",
        "from tensorflow.keras.layers import GlobalAveragePooling2D, Dense\n",
        "from tensorflow.keras.models import Model\n",
        "from tensorflow.keras.optimizers import SGD\n",
        "from tensorflow.keras.utils import to_categorical\n",
        "\n",
        "# Load CIFAR-10 dataset\n",
        "(x_train, y_train), (x_test, y_test) = cifar10.load_data()\n",
        "\n",
        "# Preprocess data\n",
        "x_train = x_train / 255.0\n",
        "x_test = x_test / 255.0\n",
        "y_train = to_categorical(y_train)\n",
        "y_test = to_categorical(y_test)\n",
        "\n",
        "# Load DenseNet121 model\n",
        "base_model = DenseNet121(include_top=False, weights='imagenet', input_shape=(32, 32, 3))\n",
        "\n",
        "# Add layers for classification\n",
        "x = GlobalAveragePooling2D()(base_model.output)\n",
        "x = Dense(256, activation='relu')(x)\n",
        "x = Dense(10, activation='softmax')(x)\n",
        "\n",
        "# Create model\n",
        "model = Model(inputs=base_model.input, outputs=x)\n",
        "\n",
        "# Freeze layers in the base model\n",
        "for layer in base_model.layers:\n",
        "    layer.trainable = False\n",
        "\n",
        "# Compile model\n",
        "model.compile(optimizer=SGD(lr=0.01), loss='categorical_crossentropy', metrics=['accuracy'])\n",
        "\n",
        "# Train model\n",
        "model.fit(x_train, y_train, epochs=20, batch_size=128, validation_data=(x_test, y_test))\n",
        "\n",
        "# Evaluate model\n",
        "test_loss, test_acc = model.evaluate(x_test, y_test)\n",
        "print('Test accuracy:', test_acc)"
      ],
      "metadata": {
        "colab": {
          "base_uri": "https://localhost:8080/"
        },
        "id": "6NSdEjBK8hfj",
        "outputId": "74e471cc-e720-428b-f147-cab2d3aa5bf2"
      },
      "execution_count": 2,
      "outputs": [
        {
          "output_type": "stream",
          "name": "stdout",
          "text": [
            "Downloading data from https://storage.googleapis.com/tensorflow/keras-applications/densenet/densenet121_weights_tf_dim_ordering_tf_kernels_notop.h5\n",
            "29084464/29084464 [==============================] - 0s 0us/step\n"
          ]
        },
        {
          "output_type": "stream",
          "name": "stderr",
          "text": [
            "WARNING:absl:`lr` is deprecated in Keras optimizer, please use `learning_rate` or use the legacy optimizer, e.g.,tf.keras.optimizers.legacy.SGD.\n"
          ]
        },
        {
          "output_type": "stream",
          "name": "stdout",
          "text": [
            "Epoch 1/20\n",
            "391/391 [==============================] - 21s 33ms/step - loss: 1.5401 - accuracy: 0.4614 - val_loss: 1.3168 - val_accuracy: 0.5447\n",
            "Epoch 2/20\n",
            "391/391 [==============================] - 8s 21ms/step - loss: 1.2472 - accuracy: 0.5647 - val_loss: 1.2067 - val_accuracy: 0.5808\n",
            "Epoch 3/20\n",
            "391/391 [==============================] - 8s 22ms/step - loss: 1.1655 - accuracy: 0.5936 - val_loss: 1.1611 - val_accuracy: 0.5996\n",
            "Epoch 4/20\n",
            "391/391 [==============================] - 9s 22ms/step - loss: 1.1174 - accuracy: 0.6099 - val_loss: 1.1380 - val_accuracy: 0.6047\n",
            "Epoch 5/20\n",
            "391/391 [==============================] - 10s 24ms/step - loss: 1.0846 - accuracy: 0.6208 - val_loss: 1.1111 - val_accuracy: 0.6142\n",
            "Epoch 6/20\n",
            "391/391 [==============================] - 8s 21ms/step - loss: 1.0595 - accuracy: 0.6303 - val_loss: 1.0968 - val_accuracy: 0.6170\n",
            "Epoch 7/20\n",
            "391/391 [==============================] - 9s 22ms/step - loss: 1.0380 - accuracy: 0.6379 - val_loss: 1.0815 - val_accuracy: 0.6234\n",
            "Epoch 8/20\n",
            "391/391 [==============================] - 9s 22ms/step - loss: 1.0205 - accuracy: 0.6438 - val_loss: 1.0711 - val_accuracy: 0.6270\n",
            "Epoch 9/20\n",
            "391/391 [==============================] - 8s 21ms/step - loss: 1.0051 - accuracy: 0.6501 - val_loss: 1.0637 - val_accuracy: 0.6300\n",
            "Epoch 10/20\n",
            "391/391 [==============================] - 9s 22ms/step - loss: 0.9920 - accuracy: 0.6533 - val_loss: 1.0639 - val_accuracy: 0.6270\n",
            "Epoch 11/20\n",
            "391/391 [==============================] - 9s 22ms/step - loss: 0.9779 - accuracy: 0.6590 - val_loss: 1.0579 - val_accuracy: 0.6284\n",
            "Epoch 12/20\n",
            "391/391 [==============================] - 10s 25ms/step - loss: 0.9668 - accuracy: 0.6637 - val_loss: 1.0573 - val_accuracy: 0.6295\n",
            "Epoch 13/20\n",
            "391/391 [==============================] - 8s 21ms/step - loss: 0.9561 - accuracy: 0.6669 - val_loss: 1.0588 - val_accuracy: 0.6306\n",
            "Epoch 14/20\n",
            "391/391 [==============================] - 9s 22ms/step - loss: 0.9458 - accuracy: 0.6714 - val_loss: 1.0424 - val_accuracy: 0.6364\n",
            "Epoch 15/20\n",
            "391/391 [==============================] - 9s 22ms/step - loss: 0.9360 - accuracy: 0.6735 - val_loss: 1.0461 - val_accuracy: 0.6362\n",
            "Epoch 16/20\n",
            "391/391 [==============================] - 8s 21ms/step - loss: 0.9259 - accuracy: 0.6772 - val_loss: 1.0431 - val_accuracy: 0.6394\n",
            "Epoch 17/20\n",
            "391/391 [==============================] - 9s 22ms/step - loss: 0.9170 - accuracy: 0.6797 - val_loss: 1.0467 - val_accuracy: 0.6352\n",
            "Epoch 18/20\n",
            "391/391 [==============================] - 9s 22ms/step - loss: 0.9089 - accuracy: 0.6833 - val_loss: 1.0367 - val_accuracy: 0.6404\n",
            "Epoch 19/20\n",
            "391/391 [==============================] - 10s 25ms/step - loss: 0.9010 - accuracy: 0.6859 - val_loss: 1.0343 - val_accuracy: 0.6413\n",
            "Epoch 20/20\n",
            "391/391 [==============================] - 9s 22ms/step - loss: 0.8906 - accuracy: 0.6899 - val_loss: 1.0403 - val_accuracy: 0.6391\n",
            "313/313 [==============================] - 6s 16ms/step - loss: 1.0403 - accuracy: 0.6391\n",
            "Test accuracy: 0.6391000151634216\n"
          ]
        }
      ]
    }
  ]
}