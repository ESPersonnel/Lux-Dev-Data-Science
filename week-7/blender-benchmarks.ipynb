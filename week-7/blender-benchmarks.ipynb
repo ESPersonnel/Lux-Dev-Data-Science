{
 "cells": [
  {
   "cell_type": "code",
   "execution_count": 4,
   "metadata": {},
   "outputs": [],
   "source": [
    "import json\n",
    "import pandas as pd\n",
    "\n",
    "# Open the JSONL file\n",
    "with open('results.jsonl', 'r') as f:\n",
    "    # Load each line of the file as a JSON object\n",
    "    data = [json.loads(line) for line in f]\n",
    "\n",
    "# Extract the 'data' column from the list of JSON objects\n",
    "data_column = [d['data'] for d in data]\n",
    "\n",
    "# Create a pandas DataFrame from the 'data' column\n",
    "df = pd.DataFrame({'data': data_column})\n"
   ]
  },
  {
   "cell_type": "code",
   "execution_count": 1,
   "metadata": {},
   "outputs": [
    {
     "ename": "",
     "evalue": "",
     "output_type": "error",
     "traceback": [
      "\u001b[1;31mCanceled future for execute_request message before replies were done"
     ]
    },
    {
     "ename": "",
     "evalue": "",
     "output_type": "error",
     "traceback": [
      "\u001b[1;31mThe Kernel crashed while executing code in the the current cell or a previous cell. Please review the code in the cell(s) to identify a possible cause of the failure. Click <a href='https://aka.ms/vscodeJupyterKernelCrash'>here</a> for more info. View Jupyter <a href='command:jupyter.viewOutput'>log</a> for further details."
     ]
    }
   ],
   "source": [
    "import pandas as pd\n",
    "\n",
    "# Load the JSONL file into a pandas DataFrame\n",
    "df = pd.read_json('results.jsonl', lines=True)\n",
    "\n",
    "# Extract a specific key from the dictionaries within the data column\n",
    "df['key'] = df['data'].apply(lambda x: x[0]['key'])\n"
   ]
  },
  {
   "cell_type": "code",
   "execution_count": 3,
   "metadata": {},
   "outputs": [
    {
     "name": "stdout",
     "output_type": "stream",
     "text": [
      "                         created_at  \\\n",
      "0  2022-03-09T18:28:07.149320+00:00   \n",
      "1  2022-03-09T18:31:11.130763+00:00   \n",
      "2  2022-03-09T18:32:41.287226+00:00   \n",
      "3  2022-03-09T18:33:42.575653+00:00   \n",
      "4  2022-03-09T18:34:33.054669+00:00   \n",
      "\n",
      "                                                data  \\\n",
      "0  [{'benchmark_launcher': {'checksum': 'cd6be4ad...   \n",
      "1  [{'benchmark_launcher': {'checksum': '148bd53e...   \n",
      "2  [{'benchmark_launcher': {'checksum': 'cd6be4ad...   \n",
      "3  [{'benchmark_launcher': {'checksum': 'cd6be4ad...   \n",
      "4  [{'benchmark_launcher': {'checksum': 'cd6be4ad...   \n",
      "\n",
      "                                     id schema_version  \n",
      "0  74cf6ed1-08cd-4904-ab22-7642654acdca             v4  \n",
      "1  9aed19c5-ffda-4dbc-a2ed-079353a6a369             v4  \n",
      "2  186ca787-e33c-47f9-9691-5b8e223f2833             v4  \n",
      "3  04809108-457d-4da1-8902-d477a9ab3887             v4  \n",
      "4  ae89a395-17f0-4e47-906d-7496dde7cea7             v4  \n"
     ]
    }
   ],
   "source": [
    "# Display the first 5 rows of the data\n",
    "print(df.head())\n"
   ]
  },
  {
   "cell_type": "code",
   "execution_count": null,
   "metadata": {},
   "outputs": [],
   "source": []
  }
 ],
 "metadata": {
  "kernelspec": {
   "display_name": "Python 3",
   "language": "python",
   "name": "python3"
  },
  "language_info": {
   "codemirror_mode": {
    "name": "ipython",
    "version": 3
   },
   "file_extension": ".py",
   "mimetype": "text/x-python",
   "name": "python",
   "nbconvert_exporter": "python",
   "pygments_lexer": "ipython3",
   "version": "3.10.6"
  },
  "orig_nbformat": 4,
  "vscode": {
   "interpreter": {
    "hash": "e7370f93d1d0cde622a1f8e1c04877d8463912d04d973331ad4851f04de6915a"
   }
  }
 },
 "nbformat": 4,
 "nbformat_minor": 2
}
