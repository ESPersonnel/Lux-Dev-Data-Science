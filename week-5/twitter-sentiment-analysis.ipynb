{
 "cells": [
  {
   "cell_type": "code",
   "execution_count": 1,
   "metadata": {},
   "outputs": [],
   "source": [
    "import pandas as pd"
   ]
  },
  {
   "cell_type": "code",
   "execution_count": 3,
   "metadata": {},
   "outputs": [],
   "source": [
    "# Load the Sentiment140 dataset\n",
    "df = pd.read_csv('Sentiment140.csv', encoding='ISO-8859-1', header=None, names=['target', 'id', 'date', 'flag', 'user', 'tweet'])"
   ]
  },
  {
   "attachments": {},
   "cell_type": "markdown",
   "metadata": {},
   "source": [
    "Data Exploration and Cleaning"
   ]
  },
  {
   "cell_type": "code",
   "execution_count": 4,
   "metadata": {},
   "outputs": [
    {
     "data": {
      "text/html": [
       "<div>\n",
       "<style scoped>\n",
       "    .dataframe tbody tr th:only-of-type {\n",
       "        vertical-align: middle;\n",
       "    }\n",
       "\n",
       "    .dataframe tbody tr th {\n",
       "        vertical-align: top;\n",
       "    }\n",
       "\n",
       "    .dataframe thead th {\n",
       "        text-align: right;\n",
       "    }\n",
       "</style>\n",
       "<table border=\"1\" class=\"dataframe\">\n",
       "  <thead>\n",
       "    <tr style=\"text-align: right;\">\n",
       "      <th></th>\n",
       "      <th>target</th>\n",
       "      <th>id</th>\n",
       "      <th>date</th>\n",
       "      <th>flag</th>\n",
       "      <th>user</th>\n",
       "      <th>tweet</th>\n",
       "    </tr>\n",
       "  </thead>\n",
       "  <tbody>\n",
       "    <tr>\n",
       "      <th>0</th>\n",
       "      <td>0</td>\n",
       "      <td>1467810369</td>\n",
       "      <td>Mon Apr 06 22:19:45 PDT 2009</td>\n",
       "      <td>NO_QUERY</td>\n",
       "      <td>_TheSpecialOne_</td>\n",
       "      <td>@switchfoot http://twitpic.com/2y1zl - Awww, t...</td>\n",
       "    </tr>\n",
       "    <tr>\n",
       "      <th>1</th>\n",
       "      <td>0</td>\n",
       "      <td>1467810672</td>\n",
       "      <td>Mon Apr 06 22:19:49 PDT 2009</td>\n",
       "      <td>NO_QUERY</td>\n",
       "      <td>scotthamilton</td>\n",
       "      <td>is upset that he can't update his Facebook by ...</td>\n",
       "    </tr>\n",
       "    <tr>\n",
       "      <th>2</th>\n",
       "      <td>0</td>\n",
       "      <td>1467810917</td>\n",
       "      <td>Mon Apr 06 22:19:53 PDT 2009</td>\n",
       "      <td>NO_QUERY</td>\n",
       "      <td>mattycus</td>\n",
       "      <td>@Kenichan I dived many times for the ball. Man...</td>\n",
       "    </tr>\n",
       "    <tr>\n",
       "      <th>3</th>\n",
       "      <td>0</td>\n",
       "      <td>1467811184</td>\n",
       "      <td>Mon Apr 06 22:19:57 PDT 2009</td>\n",
       "      <td>NO_QUERY</td>\n",
       "      <td>ElleCTF</td>\n",
       "      <td>my whole body feels itchy and like its on fire</td>\n",
       "    </tr>\n",
       "    <tr>\n",
       "      <th>4</th>\n",
       "      <td>0</td>\n",
       "      <td>1467811193</td>\n",
       "      <td>Mon Apr 06 22:19:57 PDT 2009</td>\n",
       "      <td>NO_QUERY</td>\n",
       "      <td>Karoli</td>\n",
       "      <td>@nationwideclass no, it's not behaving at all....</td>\n",
       "    </tr>\n",
       "    <tr>\n",
       "      <th>5</th>\n",
       "      <td>0</td>\n",
       "      <td>1467811372</td>\n",
       "      <td>Mon Apr 06 22:20:00 PDT 2009</td>\n",
       "      <td>NO_QUERY</td>\n",
       "      <td>joy_wolf</td>\n",
       "      <td>@Kwesidei not the whole crew</td>\n",
       "    </tr>\n",
       "    <tr>\n",
       "      <th>6</th>\n",
       "      <td>0</td>\n",
       "      <td>1467811592</td>\n",
       "      <td>Mon Apr 06 22:20:03 PDT 2009</td>\n",
       "      <td>NO_QUERY</td>\n",
       "      <td>mybirch</td>\n",
       "      <td>Need a hug</td>\n",
       "    </tr>\n",
       "    <tr>\n",
       "      <th>7</th>\n",
       "      <td>0</td>\n",
       "      <td>1467811594</td>\n",
       "      <td>Mon Apr 06 22:20:03 PDT 2009</td>\n",
       "      <td>NO_QUERY</td>\n",
       "      <td>coZZ</td>\n",
       "      <td>@LOLTrish hey  long time no see! Yes.. Rains a...</td>\n",
       "    </tr>\n",
       "    <tr>\n",
       "      <th>8</th>\n",
       "      <td>0</td>\n",
       "      <td>1467811795</td>\n",
       "      <td>Mon Apr 06 22:20:05 PDT 2009</td>\n",
       "      <td>NO_QUERY</td>\n",
       "      <td>2Hood4Hollywood</td>\n",
       "      <td>@Tatiana_K nope they didn't have it</td>\n",
       "    </tr>\n",
       "    <tr>\n",
       "      <th>9</th>\n",
       "      <td>0</td>\n",
       "      <td>1467812025</td>\n",
       "      <td>Mon Apr 06 22:20:09 PDT 2009</td>\n",
       "      <td>NO_QUERY</td>\n",
       "      <td>mimismo</td>\n",
       "      <td>@twittera que me muera ?</td>\n",
       "    </tr>\n",
       "  </tbody>\n",
       "</table>\n",
       "</div>"
      ],
      "text/plain": [
       "   target          id                          date      flag  \\\n",
       "0       0  1467810369  Mon Apr 06 22:19:45 PDT 2009  NO_QUERY   \n",
       "1       0  1467810672  Mon Apr 06 22:19:49 PDT 2009  NO_QUERY   \n",
       "2       0  1467810917  Mon Apr 06 22:19:53 PDT 2009  NO_QUERY   \n",
       "3       0  1467811184  Mon Apr 06 22:19:57 PDT 2009  NO_QUERY   \n",
       "4       0  1467811193  Mon Apr 06 22:19:57 PDT 2009  NO_QUERY   \n",
       "5       0  1467811372  Mon Apr 06 22:20:00 PDT 2009  NO_QUERY   \n",
       "6       0  1467811592  Mon Apr 06 22:20:03 PDT 2009  NO_QUERY   \n",
       "7       0  1467811594  Mon Apr 06 22:20:03 PDT 2009  NO_QUERY   \n",
       "8       0  1467811795  Mon Apr 06 22:20:05 PDT 2009  NO_QUERY   \n",
       "9       0  1467812025  Mon Apr 06 22:20:09 PDT 2009  NO_QUERY   \n",
       "\n",
       "              user                                              tweet  \n",
       "0  _TheSpecialOne_  @switchfoot http://twitpic.com/2y1zl - Awww, t...  \n",
       "1    scotthamilton  is upset that he can't update his Facebook by ...  \n",
       "2         mattycus  @Kenichan I dived many times for the ball. Man...  \n",
       "3          ElleCTF    my whole body feels itchy and like its on fire   \n",
       "4           Karoli  @nationwideclass no, it's not behaving at all....  \n",
       "5         joy_wolf                      @Kwesidei not the whole crew   \n",
       "6          mybirch                                        Need a hug   \n",
       "7             coZZ  @LOLTrish hey  long time no see! Yes.. Rains a...  \n",
       "8  2Hood4Hollywood               @Tatiana_K nope they didn't have it   \n",
       "9          mimismo                          @twittera que me muera ?   "
      ]
     },
     "execution_count": 4,
     "metadata": {},
     "output_type": "execute_result"
    }
   ],
   "source": [
    "df.head(10)"
   ]
  },
  {
   "cell_type": "code",
   "execution_count": 5,
   "metadata": {},
   "outputs": [
    {
     "data": {
      "text/plain": [
       "(1600000, 6)"
      ]
     },
     "execution_count": 5,
     "metadata": {},
     "output_type": "execute_result"
    }
   ],
   "source": [
    "df.shape"
   ]
  },
  {
   "cell_type": "code",
   "execution_count": 7,
   "metadata": {},
   "outputs": [
    {
     "data": {
      "text/plain": [
       "0    800000\n",
       "4    800000\n",
       "Name: target, dtype: int64"
      ]
     },
     "execution_count": 7,
     "metadata": {},
     "output_type": "execute_result"
    }
   ],
   "source": [
    "df['target'].value_counts()"
   ]
  },
  {
   "cell_type": "code",
   "execution_count": 8,
   "metadata": {},
   "outputs": [],
   "source": [
    "df.drop(['id', 'date', 'flag', 'user'], axis=1, inplace=True)"
   ]
  },
  {
   "cell_type": "code",
   "execution_count": 9,
   "metadata": {},
   "outputs": [
    {
     "data": {
      "text/html": [
       "<div>\n",
       "<style scoped>\n",
       "    .dataframe tbody tr th:only-of-type {\n",
       "        vertical-align: middle;\n",
       "    }\n",
       "\n",
       "    .dataframe tbody tr th {\n",
       "        vertical-align: top;\n",
       "    }\n",
       "\n",
       "    .dataframe thead th {\n",
       "        text-align: right;\n",
       "    }\n",
       "</style>\n",
       "<table border=\"1\" class=\"dataframe\">\n",
       "  <thead>\n",
       "    <tr style=\"text-align: right;\">\n",
       "      <th></th>\n",
       "      <th>target</th>\n",
       "      <th>tweet</th>\n",
       "    </tr>\n",
       "  </thead>\n",
       "  <tbody>\n",
       "    <tr>\n",
       "      <th>0</th>\n",
       "      <td>0</td>\n",
       "      <td>@switchfoot http://twitpic.com/2y1zl - Awww, t...</td>\n",
       "    </tr>\n",
       "    <tr>\n",
       "      <th>1</th>\n",
       "      <td>0</td>\n",
       "      <td>is upset that he can't update his Facebook by ...</td>\n",
       "    </tr>\n",
       "    <tr>\n",
       "      <th>2</th>\n",
       "      <td>0</td>\n",
       "      <td>@Kenichan I dived many times for the ball. Man...</td>\n",
       "    </tr>\n",
       "    <tr>\n",
       "      <th>3</th>\n",
       "      <td>0</td>\n",
       "      <td>my whole body feels itchy and like its on fire</td>\n",
       "    </tr>\n",
       "    <tr>\n",
       "      <th>4</th>\n",
       "      <td>0</td>\n",
       "      <td>@nationwideclass no, it's not behaving at all....</td>\n",
       "    </tr>\n",
       "  </tbody>\n",
       "</table>\n",
       "</div>"
      ],
      "text/plain": [
       "   target                                              tweet\n",
       "0       0  @switchfoot http://twitpic.com/2y1zl - Awww, t...\n",
       "1       0  is upset that he can't update his Facebook by ...\n",
       "2       0  @Kenichan I dived many times for the ball. Man...\n",
       "3       0    my whole body feels itchy and like its on fire \n",
       "4       0  @nationwideclass no, it's not behaving at all...."
      ]
     },
     "execution_count": 9,
     "metadata": {},
     "output_type": "execute_result"
    }
   ],
   "source": [
    "df.head()"
   ]
  },
  {
   "cell_type": "code",
   "execution_count": 10,
   "metadata": {},
   "outputs": [],
   "source": [
    "# Map the target values to 0 and 1\n",
    "df['target'] = df['target'].map({0: 0, 4: 1})"
   ]
  },
  {
   "cell_type": "code",
   "execution_count": 11,
   "metadata": {},
   "outputs": [
    {
     "data": {
      "text/html": [
       "<div>\n",
       "<style scoped>\n",
       "    .dataframe tbody tr th:only-of-type {\n",
       "        vertical-align: middle;\n",
       "    }\n",
       "\n",
       "    .dataframe tbody tr th {\n",
       "        vertical-align: top;\n",
       "    }\n",
       "\n",
       "    .dataframe thead th {\n",
       "        text-align: right;\n",
       "    }\n",
       "</style>\n",
       "<table border=\"1\" class=\"dataframe\">\n",
       "  <thead>\n",
       "    <tr style=\"text-align: right;\">\n",
       "      <th></th>\n",
       "      <th>target</th>\n",
       "      <th>tweet</th>\n",
       "    </tr>\n",
       "  </thead>\n",
       "  <tbody>\n",
       "    <tr>\n",
       "      <th>0</th>\n",
       "      <td>0</td>\n",
       "      <td>@switchfoot http://twitpic.com/2y1zl - Awww, t...</td>\n",
       "    </tr>\n",
       "    <tr>\n",
       "      <th>1</th>\n",
       "      <td>0</td>\n",
       "      <td>is upset that he can't update his Facebook by ...</td>\n",
       "    </tr>\n",
       "    <tr>\n",
       "      <th>2</th>\n",
       "      <td>0</td>\n",
       "      <td>@Kenichan I dived many times for the ball. Man...</td>\n",
       "    </tr>\n",
       "    <tr>\n",
       "      <th>3</th>\n",
       "      <td>0</td>\n",
       "      <td>my whole body feels itchy and like its on fire</td>\n",
       "    </tr>\n",
       "    <tr>\n",
       "      <th>4</th>\n",
       "      <td>0</td>\n",
       "      <td>@nationwideclass no, it's not behaving at all....</td>\n",
       "    </tr>\n",
       "    <tr>\n",
       "      <th>...</th>\n",
       "      <td>...</td>\n",
       "      <td>...</td>\n",
       "    </tr>\n",
       "    <tr>\n",
       "      <th>1599995</th>\n",
       "      <td>1</td>\n",
       "      <td>Just woke up. Having no school is the best fee...</td>\n",
       "    </tr>\n",
       "    <tr>\n",
       "      <th>1599996</th>\n",
       "      <td>1</td>\n",
       "      <td>TheWDB.com - Very cool to hear old Walt interv...</td>\n",
       "    </tr>\n",
       "    <tr>\n",
       "      <th>1599997</th>\n",
       "      <td>1</td>\n",
       "      <td>Are you ready for your MoJo Makeover? Ask me f...</td>\n",
       "    </tr>\n",
       "    <tr>\n",
       "      <th>1599998</th>\n",
       "      <td>1</td>\n",
       "      <td>Happy 38th Birthday to my boo of alll time!!! ...</td>\n",
       "    </tr>\n",
       "    <tr>\n",
       "      <th>1599999</th>\n",
       "      <td>1</td>\n",
       "      <td>happy #charitytuesday @theNSPCC @SparksCharity...</td>\n",
       "    </tr>\n",
       "  </tbody>\n",
       "</table>\n",
       "<p>1600000 rows × 2 columns</p>\n",
       "</div>"
      ],
      "text/plain": [
       "         target                                              tweet\n",
       "0             0  @switchfoot http://twitpic.com/2y1zl - Awww, t...\n",
       "1             0  is upset that he can't update his Facebook by ...\n",
       "2             0  @Kenichan I dived many times for the ball. Man...\n",
       "3             0    my whole body feels itchy and like its on fire \n",
       "4             0  @nationwideclass no, it's not behaving at all....\n",
       "...         ...                                                ...\n",
       "1599995       1  Just woke up. Having no school is the best fee...\n",
       "1599996       1  TheWDB.com - Very cool to hear old Walt interv...\n",
       "1599997       1  Are you ready for your MoJo Makeover? Ask me f...\n",
       "1599998       1  Happy 38th Birthday to my boo of alll time!!! ...\n",
       "1599999       1  happy #charitytuesday @theNSPCC @SparksCharity...\n",
       "\n",
       "[1600000 rows x 2 columns]"
      ]
     },
     "execution_count": 11,
     "metadata": {},
     "output_type": "execute_result"
    }
   ],
   "source": [
    "# Remove any rows with missing values\n",
    "df.dropna()"
   ]
  },
  {
   "attachments": {},
   "cell_type": "markdown",
   "metadata": {},
   "source": [
    "Data Visualization"
   ]
  },
  {
   "cell_type": "code",
   "execution_count": 12,
   "metadata": {},
   "outputs": [
    {
     "name": "stdout",
     "output_type": "stream",
     "text": [
      "Number of Positive Tweets:  800000\n",
      "Number of Negative Tweets:  800000\n",
      "Total Number of Tweets:  1600000\n",
      "Average Length of Positive Tweets:  73.8784325\n",
      "Average Length of Negative Tweets:  74.30179\n"
     ]
    }
   ],
   "source": [
    "# Some statistics about the dataset\n",
    "print('Number of Positive Tweets: ', df[df['target'] == 1].shape[0])\n",
    "print('Number of Negative Tweets: ', df[df['target'] == 0].shape[0])\n",
    "print('Total Number of Tweets: ', df.shape[0])\n",
    "print('Average Length of Positive Tweets: ', df[df['target'] == 1]['tweet'].str.len().mean())\n",
    "print('Average Length of Negative Tweets: ', df[df['target'] == 0]['tweet'].str.len().mean())"
   ]
  },
  {
   "cell_type": "code",
   "execution_count": 15,
   "metadata": {},
   "outputs": [
    {
     "data": {
      "text/plain": [
       "<AxesSubplot:title={'center':'Number of Positive and Negative Tweets'}>"
      ]
     },
     "execution_count": 15,
     "metadata": {},
     "output_type": "execute_result"
    },
    {
     "data": {
      "image/png": "[encoded data removed]",
      "text/plain": [
       "<Figure size 432x288 with 1 Axes>"
      ]
     },
     "metadata": {
      "needs_background": "light"
     },
     "output_type": "display_data"
    }
   ],
   "source": [
    "# A bar chart showing the number of positive and negative tweets\n",
    "df['target'].value_counts().plot(kind='bar', title='Number of Positive and Negative Tweets', x='Sentiment', y='Number of Tweets', color=['red', 'green'])"
   ]
  },
  {
   "attachments": {},
   "cell_type": "markdown",
   "metadata": {},
   "source": [
    "Machine Learning"
   ]
  },
  {
   "cell_type": "code",
   "execution_count": 27,
   "metadata": {},
   "outputs": [
    {
     "name": "stdout",
     "output_type": "stream",
     "text": [
      "Defaulting to user installation because normal site-packages is not writeable\n",
      "Collecting numpy==1.16.1\n",
      "  Using cached numpy-1.16.1.zip (5.1 MB)\n",
      "  Preparing metadata (setup.py) ... \u001b[?25ldone\n",
      "\u001b[?25hBuilding wheels for collected packages: numpy\n",
      "  Building wheel for numpy (setup.py) ... \u001b[?25l/^C\n",
      "\u001b[?25canceled\n",
      "\u001b[31mERROR: Operation cancelled by user\u001b[0m\u001b[31m\n",
      "\u001b[0m"
     ]
    }
   ],
   "source": [
    "!pip install numpy==1.16.1"
   ]
  },
  {
   "cell_type": "code",
   "execution_count": 30,
   "metadata": {},
   "outputs": [
    {
     "ename": "RuntimeError",
     "evalue": "module compiled against API version 0x10 but this version of numpy is 0xf . Check the section C-API incompatibility at the Troubleshooting ImportError section at https://numpy.org/devdocs/user/troubleshooting-importerror.html#c-api-incompatibility for indications on how to solve this problem .",
     "output_type": "error",
     "traceback": [
      "\u001b[0;31m---------------------------------------------------------------------------\u001b[0m",
      "\u001b[0;31mRuntimeError\u001b[0m                              Traceback (most recent call last)",
      "\u001b[0;31mRuntimeError\u001b[0m: module compiled against API version 0x10 but this version of numpy is 0xf . Check the section C-API incompatibility at the Troubleshooting ImportError section at https://numpy.org/devdocs/user/troubleshooting-importerror.html#c-api-incompatibility for indications on how to solve this problem ."
     ]
    },
    {
     "ename": "ImportError",
     "evalue": "numpy.core.multiarray failed to import",
     "output_type": "error",
     "traceback": [
      "\u001b[0;31m---------------------------------------------------------------------------\u001b[0m",
      "\u001b[0;31mImportError\u001b[0m                               Traceback (most recent call last)",
      "\u001b[1;32m/home/espersonnel/Development/lux-dev-data-science/week-5/twitter-sentiment-analysis.ipynb Cell 16\u001b[0m in \u001b[0;36m<cell line: 1>\u001b[0;34m()\u001b[0m\n\u001b[0;32m----> <a href='vscode-notebook-cell://wsl%2Bubuntu/home/espersonnel/Development/lux-dev-data-science/week-5/twitter-sentiment-analysis.ipynb#X21sdnNjb2RlLXJlbW90ZQ%3D%3D?line=0'>1</a>\u001b[0m \u001b[39mfrom\u001b[39;00m \u001b[39msklearn\u001b[39;00m\u001b[39m.\u001b[39;00m\u001b[39mfeature_extraction\u001b[39;00m\u001b[39m.\u001b[39;00m\u001b[39mtext\u001b[39;00m \u001b[39mimport\u001b[39;00m TfidfVectorizer\n\u001b[1;32m      <a href='vscode-notebook-cell://wsl%2Bubuntu/home/espersonnel/Development/lux-dev-data-science/week-5/twitter-sentiment-analysis.ipynb#X21sdnNjb2RlLXJlbW90ZQ%3D%3D?line=1'>2</a>\u001b[0m \u001b[39mfrom\u001b[39;00m \u001b[39msklearn\u001b[39;00m\u001b[39m.\u001b[39;00m\u001b[39mlinear_model\u001b[39;00m \u001b[39mimport\u001b[39;00m LogisticRegression\n\u001b[1;32m      <a href='vscode-notebook-cell://wsl%2Bubuntu/home/espersonnel/Development/lux-dev-data-science/week-5/twitter-sentiment-analysis.ipynb#X21sdnNjb2RlLXJlbW90ZQ%3D%3D?line=2'>3</a>\u001b[0m \u001b[39mfrom\u001b[39;00m \u001b[39msklearn\u001b[39;00m\u001b[39m.\u001b[39;00m\u001b[39mpipeline\u001b[39;00m \u001b[39mimport\u001b[39;00m Pipeline\n",
      "File \u001b[0;32m~/.local/lib/python3.10/site-packages/sklearn/__init__.py:82\u001b[0m, in \u001b[0;36m<module>\u001b[0;34m\u001b[0m\n\u001b[1;32m     80\u001b[0m \u001b[39mfrom\u001b[39;00m \u001b[39m.\u001b[39;00m \u001b[39mimport\u001b[39;00m _distributor_init  \u001b[39m# noqa: F401\u001b[39;00m\n\u001b[1;32m     81\u001b[0m \u001b[39mfrom\u001b[39;00m \u001b[39m.\u001b[39;00m \u001b[39mimport\u001b[39;00m __check_build  \u001b[39m# noqa: F401\u001b[39;00m\n\u001b[0;32m---> 82\u001b[0m \u001b[39mfrom\u001b[39;00m \u001b[39m.\u001b[39;00m\u001b[39mbase\u001b[39;00m \u001b[39mimport\u001b[39;00m clone\n\u001b[1;32m     83\u001b[0m \u001b[39mfrom\u001b[39;00m \u001b[39m.\u001b[39;00m\u001b[39mutils\u001b[39;00m\u001b[39m.\u001b[39;00m\u001b[39m_show_versions\u001b[39;00m \u001b[39mimport\u001b[39;00m show_versions\n\u001b[1;32m     85\u001b[0m __all__ \u001b[39m=\u001b[39m [\n\u001b[1;32m     86\u001b[0m     \u001b[39m\"\u001b[39m\u001b[39mcalibration\u001b[39m\u001b[39m\"\u001b[39m,\n\u001b[1;32m     87\u001b[0m     \u001b[39m\"\u001b[39m\u001b[39mcluster\u001b[39m\u001b[39m\"\u001b[39m,\n\u001b[0;32m   (...)\u001b[0m\n\u001b[1;32m    128\u001b[0m     \u001b[39m\"\u001b[39m\u001b[39mshow_versions\u001b[39m\u001b[39m\"\u001b[39m,\n\u001b[1;32m    129\u001b[0m ]\n",
      "File \u001b[0;32m~/.local/lib/python3.10/site-packages/sklearn/base.py:17\u001b[0m, in \u001b[0;36m<module>\u001b[0;34m\u001b[0m\n\u001b[1;32m     15\u001b[0m \u001b[39mfrom\u001b[39;00m \u001b[39m.\u001b[39;00m \u001b[39mimport\u001b[39;00m __version__\n\u001b[1;32m     16\u001b[0m \u001b[39mfrom\u001b[39;00m \u001b[39m.\u001b[39;00m\u001b[39m_config\u001b[39;00m \u001b[39mimport\u001b[39;00m get_config\n\u001b[0;32m---> 17\u001b[0m \u001b[39mfrom\u001b[39;00m \u001b[39m.\u001b[39;00m\u001b[39mutils\u001b[39;00m \u001b[39mimport\u001b[39;00m _IS_32BIT\n\u001b[1;32m     18\u001b[0m \u001b[39mfrom\u001b[39;00m \u001b[39m.\u001b[39;00m\u001b[39mutils\u001b[39;00m\u001b[39m.\u001b[39;00m\u001b[39m_set_output\u001b[39;00m \u001b[39mimport\u001b[39;00m _SetOutputMixin\n\u001b[1;32m     19\u001b[0m \u001b[39mfrom\u001b[39;00m \u001b[39m.\u001b[39;00m\u001b[39mutils\u001b[39;00m\u001b[39m.\u001b[39;00m\u001b[39m_tags\u001b[39;00m \u001b[39mimport\u001b[39;00m (\n\u001b[1;32m     20\u001b[0m     _DEFAULT_TAGS,\n\u001b[1;32m     21\u001b[0m )\n",
      "File \u001b[0;32m~/.local/lib/python3.10/site-packages/sklearn/utils/__init__.py:25\u001b[0m, in \u001b[0;36m<module>\u001b[0;34m\u001b[0m\n\u001b[1;32m     23\u001b[0m \u001b[39mfrom\u001b[39;00m \u001b[39m.\u001b[39;00m\u001b[39mdeprecation\u001b[39;00m \u001b[39mimport\u001b[39;00m deprecated\n\u001b[1;32m     24\u001b[0m \u001b[39mfrom\u001b[39;00m \u001b[39m.\u001b[39;00m\u001b[39mdiscovery\u001b[39;00m \u001b[39mimport\u001b[39;00m all_estimators\n\u001b[0;32m---> 25\u001b[0m \u001b[39mfrom\u001b[39;00m \u001b[39m.\u001b[39;00m\u001b[39mfixes\u001b[39;00m \u001b[39mimport\u001b[39;00m parse_version, threadpool_info\n\u001b[1;32m     26\u001b[0m \u001b[39mfrom\u001b[39;00m \u001b[39m.\u001b[39;00m\u001b[39m_estimator_html_repr\u001b[39;00m \u001b[39mimport\u001b[39;00m estimator_html_repr\n\u001b[1;32m     27\u001b[0m \u001b[39mfrom\u001b[39;00m \u001b[39m.\u001b[39;00m\u001b[39mvalidation\u001b[39;00m \u001b[39mimport\u001b[39;00m (\n\u001b[1;32m     28\u001b[0m     as_float_array,\n\u001b[1;32m     29\u001b[0m     assert_all_finite,\n\u001b[0;32m   (...)\u001b[0m\n\u001b[1;32m     38\u001b[0m     _is_arraylike_not_scalar,\n\u001b[1;32m     39\u001b[0m )\n",
      "File \u001b[0;32m~/.local/lib/python3.10/site-packages/sklearn/utils/fixes.py:19\u001b[0m, in \u001b[0;36m<module>\u001b[0;34m\u001b[0m\n\u001b[1;32m     17\u001b[0m \u001b[39mimport\u001b[39;00m \u001b[39mnumpy\u001b[39;00m \u001b[39mas\u001b[39;00m \u001b[39mnp\u001b[39;00m\n\u001b[1;32m     18\u001b[0m \u001b[39mimport\u001b[39;00m \u001b[39mscipy\u001b[39;00m\n\u001b[0;32m---> 19\u001b[0m \u001b[39mimport\u001b[39;00m \u001b[39mscipy\u001b[39;00m\u001b[39m.\u001b[39;00m\u001b[39mstats\u001b[39;00m\n\u001b[1;32m     20\u001b[0m \u001b[39mimport\u001b[39;00m \u001b[39mthreadpoolctl\u001b[39;00m\n\u001b[1;32m     22\u001b[0m \u001b[39mfrom\u001b[39;00m \u001b[39m.\u001b[39;00m\u001b[39mdeprecation\u001b[39;00m \u001b[39mimport\u001b[39;00m deprecated\n",
      "File \u001b[0;32m~/.local/lib/python3.10/site-packages/scipy/stats/__init__.py:467\u001b[0m, in \u001b[0;36m<module>\u001b[0;34m\u001b[0m\n\u001b[1;32m      1\u001b[0m \u001b[39m\"\"\"\u001b[39;00m\n\u001b[1;32m      2\u001b[0m \u001b[39m.. _statsrefmanual:\u001b[39;00m\n\u001b[1;32m      3\u001b[0m \n\u001b[1;32m      4\u001b[0m \u001b[39m==========================================\u001b[39;00m\n\u001b[1;32m      5\u001b[0m \u001b[39mStatistical functions (:mod:`scipy.stats`)\u001b[39;00m\n\u001b[1;32m      6\u001b[0m \u001b[39m==========================================\u001b[39;00m\n\u001b[1;32m      7\u001b[0m \n\u001b[1;32m      8\u001b[0m \u001b[39m.. currentmodule:: scipy.stats\u001b[39;00m\n\u001b[1;32m      9\u001b[0m \n\u001b[1;32m     10\u001b[0m \u001b[39mThis module contains a large number of probability distributions,\u001b[39;00m\n\u001b[1;32m     11\u001b[0m \u001b[39msummary and frequency statistics, correlation functions and statistical\u001b[39;00m\n\u001b[1;32m     12\u001b[0m \u001b[39mtests, masked statistics, kernel density estimation, quasi-Monte Carlo\u001b[39;00m\n\u001b[1;32m     13\u001b[0m \u001b[39mfunctionality, and more.\u001b[39;00m\n\u001b[1;32m     14\u001b[0m \n\u001b[1;32m     15\u001b[0m \u001b[39mStatistics is a very large area, and there are topics that are out of scope\u001b[39;00m\n\u001b[1;32m     16\u001b[0m \u001b[39mfor SciPy and are covered by other packages. Some of the most important ones\u001b[39;00m\n\u001b[1;32m     17\u001b[0m \u001b[39mare:\u001b[39;00m\n\u001b[1;32m     18\u001b[0m \n\u001b[1;32m     19\u001b[0m \u001b[39m- `statsmodels <https://www.statsmodels.org/stable/index.html>`__:\u001b[39;00m\n\u001b[1;32m     20\u001b[0m \u001b[39m  regression, linear models, time series analysis, extensions to topics\u001b[39;00m\n\u001b[1;32m     21\u001b[0m \u001b[39m  also covered by ``scipy.stats``.\u001b[39;00m\n\u001b[1;32m     22\u001b[0m \u001b[39m- `Pandas <https://pandas.pydata.org/>`__: tabular data, time series\u001b[39;00m\n\u001b[1;32m     23\u001b[0m \u001b[39m  functionality, interfaces to other statistical languages.\u001b[39;00m\n\u001b[1;32m     24\u001b[0m \u001b[39m- `PyMC <https://docs.pymc.io/>`__: Bayesian statistical\u001b[39;00m\n\u001b[1;32m     25\u001b[0m \u001b[39m  modeling, probabilistic machine learning.\u001b[39;00m\n\u001b[1;32m     26\u001b[0m \u001b[39m- `scikit-learn <https://scikit-learn.org/>`__: classification, regression,\u001b[39;00m\n\u001b[1;32m     27\u001b[0m \u001b[39m  model selection.\u001b[39;00m\n\u001b[1;32m     28\u001b[0m \u001b[39m- `Seaborn <https://seaborn.pydata.org/>`__: statistical data visualization.\u001b[39;00m\n\u001b[1;32m     29\u001b[0m \u001b[39m- `rpy2 <https://rpy2.github.io/>`__: Python to R bridge.\u001b[39;00m\n\u001b[1;32m     30\u001b[0m \n\u001b[1;32m     31\u001b[0m \n\u001b[1;32m     32\u001b[0m \u001b[39mProbability distributions\u001b[39;00m\n\u001b[1;32m     33\u001b[0m \u001b[39m=========================\u001b[39;00m\n\u001b[1;32m     34\u001b[0m \n\u001b[1;32m     35\u001b[0m \u001b[39mEach univariate distribution is an instance of a subclass of `rv_continuous`\u001b[39;00m\n\u001b[1;32m     36\u001b[0m \u001b[39m(`rv_discrete` for discrete distributions):\u001b[39;00m\n\u001b[1;32m     37\u001b[0m \n\u001b[1;32m     38\u001b[0m \u001b[39m.. autosummary::\u001b[39;00m\n\u001b[1;32m     39\u001b[0m \u001b[39m   :toctree: generated/\u001b[39;00m\n\u001b[1;32m     40\u001b[0m \n\u001b[1;32m     41\u001b[0m \u001b[39m   rv_continuous\u001b[39;00m\n\u001b[1;32m     42\u001b[0m \u001b[39m   rv_discrete\u001b[39;00m\n\u001b[1;32m     43\u001b[0m \u001b[39m   rv_histogram\u001b[39;00m\n\u001b[1;32m     44\u001b[0m \n\u001b[1;32m     45\u001b[0m \u001b[39mContinuous distributions\u001b[39;00m\n\u001b[1;32m     46\u001b[0m \u001b[39m------------------------\u001b[39;00m\n\u001b[1;32m     47\u001b[0m \n\u001b[1;32m     48\u001b[0m \u001b[39m.. autosummary::\u001b[39;00m\n\u001b[1;32m     49\u001b[0m \u001b[39m   :toctree: generated/\u001b[39;00m\n\u001b[1;32m     50\u001b[0m \n\u001b[1;32m     51\u001b[0m \u001b[39m   alpha             -- Alpha\u001b[39;00m\n\u001b[1;32m     52\u001b[0m \u001b[39m   anglit            -- Anglit\u001b[39;00m\n\u001b[1;32m     53\u001b[0m \u001b[39m   arcsine           -- Arcsine\u001b[39;00m\n\u001b[1;32m     54\u001b[0m \u001b[39m   argus             -- Argus\u001b[39;00m\n\u001b[1;32m     55\u001b[0m \u001b[39m   beta              -- Beta\u001b[39;00m\n\u001b[1;32m     56\u001b[0m \u001b[39m   betaprime         -- Beta Prime\u001b[39;00m\n\u001b[1;32m     57\u001b[0m \u001b[39m   bradford          -- Bradford\u001b[39;00m\n\u001b[1;32m     58\u001b[0m \u001b[39m   burr              -- Burr (Type III)\u001b[39;00m\n\u001b[1;32m     59\u001b[0m \u001b[39m   burr12            -- Burr (Type XII)\u001b[39;00m\n\u001b[1;32m     60\u001b[0m \u001b[39m   cauchy            -- Cauchy\u001b[39;00m\n\u001b[1;32m     61\u001b[0m \u001b[39m   chi               -- Chi\u001b[39;00m\n\u001b[1;32m     62\u001b[0m \u001b[39m   chi2              -- Chi-squared\u001b[39;00m\n\u001b[1;32m     63\u001b[0m \u001b[39m   cosine            -- Cosine\u001b[39;00m\n\u001b[1;32m     64\u001b[0m \u001b[39m   crystalball       -- Crystalball\u001b[39;00m\n\u001b[1;32m     65\u001b[0m \u001b[39m   dgamma            -- Double Gamma\u001b[39;00m\n\u001b[1;32m     66\u001b[0m \u001b[39m   dweibull          -- Double Weibull\u001b[39;00m\n\u001b[1;32m     67\u001b[0m \u001b[39m   erlang            -- Erlang\u001b[39;00m\n\u001b[1;32m     68\u001b[0m \u001b[39m   expon             -- Exponential\u001b[39;00m\n\u001b[1;32m     69\u001b[0m \u001b[39m   exponnorm         -- Exponentially Modified Normal\u001b[39;00m\n\u001b[1;32m     70\u001b[0m \u001b[39m   exponweib         -- Exponentiated Weibull\u001b[39;00m\n\u001b[1;32m     71\u001b[0m \u001b[39m   exponpow          -- Exponential Power\u001b[39;00m\n\u001b[1;32m     72\u001b[0m \u001b[39m   f                 -- F (Snecdor F)\u001b[39;00m\n\u001b[1;32m     73\u001b[0m \u001b[39m   fatiguelife       -- Fatigue Life (Birnbaum-Saunders)\u001b[39;00m\n\u001b[1;32m     74\u001b[0m \u001b[39m   fisk              -- Fisk\u001b[39;00m\n\u001b[1;32m     75\u001b[0m \u001b[39m   foldcauchy        -- Folded Cauchy\u001b[39;00m\n\u001b[1;32m     76\u001b[0m \u001b[39m   foldnorm          -- Folded Normal\u001b[39;00m\n\u001b[1;32m     77\u001b[0m \u001b[39m   genlogistic       -- Generalized Logistic\u001b[39;00m\n\u001b[1;32m     78\u001b[0m \u001b[39m   gennorm           -- Generalized normal\u001b[39;00m\n\u001b[1;32m     79\u001b[0m \u001b[39m   genpareto         -- Generalized Pareto\u001b[39;00m\n\u001b[1;32m     80\u001b[0m \u001b[39m   genexpon          -- Generalized Exponential\u001b[39;00m\n\u001b[1;32m     81\u001b[0m \u001b[39m   genextreme        -- Generalized Extreme Value\u001b[39;00m\n\u001b[1;32m     82\u001b[0m \u001b[39m   gausshyper        -- Gauss Hypergeometric\u001b[39;00m\n\u001b[1;32m     83\u001b[0m \u001b[39m   gamma             -- Gamma\u001b[39;00m\n\u001b[1;32m     84\u001b[0m \u001b[39m   gengamma          -- Generalized gamma\u001b[39;00m\n\u001b[1;32m     85\u001b[0m \u001b[39m   genhalflogistic   -- Generalized Half Logistic\u001b[39;00m\n\u001b[1;32m     86\u001b[0m \u001b[39m   genhyperbolic     -- Generalized Hyperbolic\u001b[39;00m\n\u001b[1;32m     87\u001b[0m \u001b[39m   geninvgauss       -- Generalized Inverse Gaussian\u001b[39;00m\n\u001b[1;32m     88\u001b[0m \u001b[39m   gibrat            -- Gibrat\u001b[39;00m\n\u001b[1;32m     89\u001b[0m \u001b[39m   gilbrat           -- Gilbrat\u001b[39;00m\n\u001b[1;32m     90\u001b[0m \u001b[39m   gompertz          -- Gompertz (Truncated Gumbel)\u001b[39;00m\n\u001b[1;32m     91\u001b[0m \u001b[39m   gumbel_r          -- Right Sided Gumbel, Log-Weibull, Fisher-Tippett, Extreme Value Type I\u001b[39;00m\n\u001b[1;32m     92\u001b[0m \u001b[39m   gumbel_l          -- Left Sided Gumbel, etc.\u001b[39;00m\n\u001b[1;32m     93\u001b[0m \u001b[39m   halfcauchy        -- Half Cauchy\u001b[39;00m\n\u001b[1;32m     94\u001b[0m \u001b[39m   halflogistic      -- Half Logistic\u001b[39;00m\n\u001b[1;32m     95\u001b[0m \u001b[39m   halfnorm          -- Half Normal\u001b[39;00m\n\u001b[1;32m     96\u001b[0m \u001b[39m   halfgennorm       -- Generalized Half Normal\u001b[39;00m\n\u001b[1;32m     97\u001b[0m \u001b[39m   hypsecant         -- Hyperbolic Secant\u001b[39;00m\n\u001b[1;32m     98\u001b[0m \u001b[39m   invgamma          -- Inverse Gamma\u001b[39;00m\n\u001b[1;32m     99\u001b[0m \u001b[39m   invgauss          -- Inverse Gaussian\u001b[39;00m\n\u001b[1;32m    100\u001b[0m \u001b[39m   invweibull        -- Inverse Weibull\u001b[39;00m\n\u001b[1;32m    101\u001b[0m \u001b[39m   johnsonsb         -- Johnson SB\u001b[39;00m\n\u001b[1;32m    102\u001b[0m \u001b[39m   johnsonsu         -- Johnson SU\u001b[39;00m\n\u001b[1;32m    103\u001b[0m \u001b[39m   kappa4            -- Kappa 4 parameter\u001b[39;00m\n\u001b[1;32m    104\u001b[0m \u001b[39m   kappa3            -- Kappa 3 parameter\u001b[39;00m\n\u001b[1;32m    105\u001b[0m \u001b[39m   ksone             -- Distribution of Kolmogorov-Smirnov one-sided test statistic\u001b[39;00m\n\u001b[1;32m    106\u001b[0m \u001b[39m   kstwo             -- Distribution of Kolmogorov-Smirnov two-sided test statistic\u001b[39;00m\n\u001b[1;32m    107\u001b[0m \u001b[39m   kstwobign         -- Limiting Distribution of scaled Kolmogorov-Smirnov two-sided test statistic.\u001b[39;00m\n\u001b[1;32m    108\u001b[0m \u001b[39m   laplace           -- Laplace\u001b[39;00m\n\u001b[1;32m    109\u001b[0m \u001b[39m   laplace_asymmetric    -- Asymmetric Laplace\u001b[39;00m\n\u001b[1;32m    110\u001b[0m \u001b[39m   levy              -- Levy\u001b[39;00m\n\u001b[1;32m    111\u001b[0m \u001b[39m   levy_l\u001b[39;00m\n\u001b[1;32m    112\u001b[0m \u001b[39m   levy_stable\u001b[39;00m\n\u001b[1;32m    113\u001b[0m \u001b[39m   logistic          -- Logistic\u001b[39;00m\n\u001b[1;32m    114\u001b[0m \u001b[39m   loggamma          -- Log-Gamma\u001b[39;00m\n\u001b[1;32m    115\u001b[0m \u001b[39m   loglaplace        -- Log-Laplace (Log Double Exponential)\u001b[39;00m\n\u001b[1;32m    116\u001b[0m \u001b[39m   lognorm           -- Log-Normal\u001b[39;00m\n\u001b[1;32m    117\u001b[0m \u001b[39m   loguniform        -- Log-Uniform\u001b[39;00m\n\u001b[1;32m    118\u001b[0m \u001b[39m   lomax             -- Lomax (Pareto of the second kind)\u001b[39;00m\n\u001b[1;32m    119\u001b[0m \u001b[39m   maxwell           -- Maxwell\u001b[39;00m\n\u001b[1;32m    120\u001b[0m \u001b[39m   mielke            -- Mielke's Beta-Kappa\u001b[39;00m\n\u001b[1;32m    121\u001b[0m \u001b[39m   moyal             -- Moyal\u001b[39;00m\n\u001b[1;32m    122\u001b[0m \u001b[39m   nakagami          -- Nakagami\u001b[39;00m\n\u001b[1;32m    123\u001b[0m \u001b[39m   ncx2              -- Non-central chi-squared\u001b[39;00m\n\u001b[1;32m    124\u001b[0m \u001b[39m   ncf               -- Non-central F\u001b[39;00m\n\u001b[1;32m    125\u001b[0m \u001b[39m   nct               -- Non-central Student's T\u001b[39;00m\n\u001b[1;32m    126\u001b[0m \u001b[39m   norm              -- Normal (Gaussian)\u001b[39;00m\n\u001b[1;32m    127\u001b[0m \u001b[39m   norminvgauss      -- Normal Inverse Gaussian\u001b[39;00m\n\u001b[1;32m    128\u001b[0m \u001b[39m   pareto            -- Pareto\u001b[39;00m\n\u001b[1;32m    129\u001b[0m \u001b[39m   pearson3          -- Pearson type III\u001b[39;00m\n\u001b[1;32m    130\u001b[0m \u001b[39m   powerlaw          -- Power-function\u001b[39;00m\n\u001b[1;32m    131\u001b[0m \u001b[39m   powerlognorm      -- Power log normal\u001b[39;00m\n\u001b[1;32m    132\u001b[0m \u001b[39m   powernorm         -- Power normal\u001b[39;00m\n\u001b[1;32m    133\u001b[0m \u001b[39m   rdist             -- R-distribution\u001b[39;00m\n\u001b[1;32m    134\u001b[0m \u001b[39m   rayleigh          -- Rayleigh\u001b[39;00m\n\u001b[1;32m    135\u001b[0m \u001b[39m   rice              -- Rice\u001b[39;00m\n\u001b[1;32m    136\u001b[0m \u001b[39m   recipinvgauss     -- Reciprocal Inverse Gaussian\u001b[39;00m\n\u001b[1;32m    137\u001b[0m \u001b[39m   semicircular      -- Semicircular\u001b[39;00m\n\u001b[1;32m    138\u001b[0m \u001b[39m   skewcauchy        -- Skew Cauchy\u001b[39;00m\n\u001b[1;32m    139\u001b[0m \u001b[39m   skewnorm          -- Skew normal\u001b[39;00m\n\u001b[1;32m    140\u001b[0m \u001b[39m   studentized_range    -- Studentized Range\u001b[39;00m\n\u001b[1;32m    141\u001b[0m \u001b[39m   t                 -- Student's T\u001b[39;00m\n\u001b[1;32m    142\u001b[0m \u001b[39m   trapezoid         -- Trapezoidal\u001b[39;00m\n\u001b[1;32m    143\u001b[0m \u001b[39m   triang            -- Triangular\u001b[39;00m\n\u001b[1;32m    144\u001b[0m \u001b[39m   truncexpon        -- Truncated Exponential\u001b[39;00m\n\u001b[1;32m    145\u001b[0m \u001b[39m   truncnorm         -- Truncated Normal\u001b[39;00m\n\u001b[1;32m    146\u001b[0m \u001b[39m   truncpareto       -- Truncated Pareto\u001b[39;00m\n\u001b[1;32m    147\u001b[0m \u001b[39m   truncweibull_min  -- Truncated minimum Weibull distribution\u001b[39;00m\n\u001b[1;32m    148\u001b[0m \u001b[39m   tukeylambda       -- Tukey-Lambda\u001b[39;00m\n\u001b[1;32m    149\u001b[0m \u001b[39m   uniform           -- Uniform\u001b[39;00m\n\u001b[1;32m    150\u001b[0m \u001b[39m   vonmises          -- Von-Mises (Circular)\u001b[39;00m\n\u001b[1;32m    151\u001b[0m \u001b[39m   vonmises_line     -- Von-Mises (Line)\u001b[39;00m\n\u001b[1;32m    152\u001b[0m \u001b[39m   wald              -- Wald\u001b[39;00m\n\u001b[1;32m    153\u001b[0m \u001b[39m   weibull_min       -- Minimum Weibull (see Frechet)\u001b[39;00m\n\u001b[1;32m    154\u001b[0m \u001b[39m   weibull_max       -- Maximum Weibull (see Frechet)\u001b[39;00m\n\u001b[1;32m    155\u001b[0m \u001b[39m   wrapcauchy        -- Wrapped Cauchy\u001b[39;00m\n\u001b[1;32m    156\u001b[0m \n\u001b[1;32m    157\u001b[0m \u001b[39mMultivariate distributions\u001b[39;00m\n\u001b[1;32m    158\u001b[0m \u001b[39m--------------------------\u001b[39;00m\n\u001b[1;32m    159\u001b[0m \n\u001b[1;32m    160\u001b[0m \u001b[39m.. autosummary::\u001b[39;00m\n\u001b[1;32m    161\u001b[0m \u001b[39m   :toctree: generated/\u001b[39;00m\n\u001b[1;32m    162\u001b[0m \n\u001b[1;32m    163\u001b[0m \u001b[39m   multivariate_normal    -- Multivariate normal distribution\u001b[39;00m\n\u001b[1;32m    164\u001b[0m \u001b[39m   matrix_normal          -- Matrix normal distribution\u001b[39;00m\n\u001b[1;32m    165\u001b[0m \u001b[39m   dirichlet              -- Dirichlet\u001b[39;00m\n\u001b[1;32m    166\u001b[0m \u001b[39m   wishart                -- Wishart\u001b[39;00m\n\u001b[1;32m    167\u001b[0m \u001b[39m   invwishart             -- Inverse Wishart\u001b[39;00m\n\u001b[1;32m    168\u001b[0m \u001b[39m   multinomial            -- Multinomial distribution\u001b[39;00m\n\u001b[1;32m    169\u001b[0m \u001b[39m   special_ortho_group    -- SO(N) group\u001b[39;00m\n\u001b[1;32m    170\u001b[0m \u001b[39m   ortho_group            -- O(N) group\u001b[39;00m\n\u001b[1;32m    171\u001b[0m \u001b[39m   unitary_group          -- U(N) group\u001b[39;00m\n\u001b[1;32m    172\u001b[0m \u001b[39m   random_correlation     -- random correlation matrices\u001b[39;00m\n\u001b[1;32m    173\u001b[0m \u001b[39m   multivariate_t         -- Multivariate t-distribution\u001b[39;00m\n\u001b[1;32m    174\u001b[0m \u001b[39m   multivariate_hypergeom -- Multivariate hypergeometric distribution\u001b[39;00m\n\u001b[1;32m    175\u001b[0m \u001b[39m   random_table           -- Distribution of random tables with given marginals\u001b[39;00m\n\u001b[1;32m    176\u001b[0m \u001b[39m   uniform_direction      -- Uniform distribution on S(N-1)\u001b[39;00m\n\u001b[1;32m    177\u001b[0m \n\u001b[1;32m    178\u001b[0m \u001b[39m`scipy.stats.multivariate_normal` methods accept instances\u001b[39;00m\n\u001b[1;32m    179\u001b[0m \u001b[39mof the following class to represent the covariance.\u001b[39;00m\n\u001b[1;32m    180\u001b[0m \n\u001b[1;32m    181\u001b[0m \u001b[39m.. autosummary::\u001b[39;00m\n\u001b[1;32m    182\u001b[0m \u001b[39m   :toctree: generated/\u001b[39;00m\n\u001b[1;32m    183\u001b[0m \n\u001b[1;32m    184\u001b[0m \u001b[39m   Covariance             -- Representation of a covariance matrix\u001b[39;00m\n\u001b[1;32m    185\u001b[0m \n\u001b[1;32m    186\u001b[0m \n\u001b[1;32m    187\u001b[0m \u001b[39mDiscrete distributions\u001b[39;00m\n\u001b[1;32m    188\u001b[0m \u001b[39m----------------------\u001b[39;00m\n\u001b[1;32m    189\u001b[0m \n\u001b[1;32m    190\u001b[0m \u001b[39m.. autosummary::\u001b[39;00m\n\u001b[1;32m    191\u001b[0m \u001b[39m   :toctree: generated/\u001b[39;00m\n\u001b[1;32m    192\u001b[0m \n\u001b[1;32m    193\u001b[0m \u001b[39m   bernoulli                -- Bernoulli\u001b[39;00m\n\u001b[1;32m    194\u001b[0m \u001b[39m   betabinom                -- Beta-Binomial\u001b[39;00m\n\u001b[1;32m    195\u001b[0m \u001b[39m   binom                    -- Binomial\u001b[39;00m\n\u001b[1;32m    196\u001b[0m \u001b[39m   boltzmann                -- Boltzmann (Truncated Discrete Exponential)\u001b[39;00m\n\u001b[1;32m    197\u001b[0m \u001b[39m   dlaplace                 -- Discrete Laplacian\u001b[39;00m\n\u001b[1;32m    198\u001b[0m \u001b[39m   geom                     -- Geometric\u001b[39;00m\n\u001b[1;32m    199\u001b[0m \u001b[39m   hypergeom                -- Hypergeometric\u001b[39;00m\n\u001b[1;32m    200\u001b[0m \u001b[39m   logser                   -- Logarithmic (Log-Series, Series)\u001b[39;00m\n\u001b[1;32m    201\u001b[0m \u001b[39m   nbinom                   -- Negative Binomial\u001b[39;00m\n\u001b[1;32m    202\u001b[0m \u001b[39m   nchypergeom_fisher       -- Fisher's Noncentral Hypergeometric\u001b[39;00m\n\u001b[1;32m    203\u001b[0m \u001b[39m   nchypergeom_wallenius    -- Wallenius's Noncentral Hypergeometric\u001b[39;00m\n\u001b[1;32m    204\u001b[0m \u001b[39m   nhypergeom               -- Negative Hypergeometric\u001b[39;00m\n\u001b[1;32m    205\u001b[0m \u001b[39m   planck                   -- Planck (Discrete Exponential)\u001b[39;00m\n\u001b[1;32m    206\u001b[0m \u001b[39m   poisson                  -- Poisson\u001b[39;00m\n\u001b[1;32m    207\u001b[0m \u001b[39m   randint                  -- Discrete Uniform\u001b[39;00m\n\u001b[1;32m    208\u001b[0m \u001b[39m   skellam                  -- Skellam\u001b[39;00m\n\u001b[1;32m    209\u001b[0m \u001b[39m   yulesimon                -- Yule-Simon\u001b[39;00m\n\u001b[1;32m    210\u001b[0m \u001b[39m   zipf                     -- Zipf (Zeta)\u001b[39;00m\n\u001b[1;32m    211\u001b[0m \u001b[39m   zipfian                  -- Zipfian\u001b[39;00m\n\u001b[1;32m    212\u001b[0m \n\u001b[1;32m    213\u001b[0m \u001b[39mAn overview of statistical functions is given below.  Many of these functions\u001b[39;00m\n\u001b[1;32m    214\u001b[0m \u001b[39mhave a similar version in `scipy.stats.mstats` which work for masked arrays.\u001b[39;00m\n\u001b[1;32m    215\u001b[0m \n\u001b[1;32m    216\u001b[0m \u001b[39mSummary statistics\u001b[39;00m\n\u001b[1;32m    217\u001b[0m \u001b[39m==================\u001b[39;00m\n\u001b[1;32m    218\u001b[0m \n\u001b[1;32m    219\u001b[0m \u001b[39m.. autosummary::\u001b[39;00m\n\u001b[1;32m    220\u001b[0m \u001b[39m   :toctree: generated/\u001b[39;00m\n\u001b[1;32m    221\u001b[0m \n\u001b[1;32m    222\u001b[0m \u001b[39m   describe          -- Descriptive statistics\u001b[39;00m\n\u001b[1;32m    223\u001b[0m \u001b[39m   gmean             -- Geometric mean\u001b[39;00m\n\u001b[1;32m    224\u001b[0m \u001b[39m   hmean             -- Harmonic mean\u001b[39;00m\n\u001b[1;32m    225\u001b[0m \u001b[39m   pmean             -- Power mean\u001b[39;00m\n\u001b[1;32m    226\u001b[0m \u001b[39m   kurtosis          -- Fisher or Pearson kurtosis\u001b[39;00m\n\u001b[1;32m    227\u001b[0m \u001b[39m   mode              -- Modal value\u001b[39;00m\n\u001b[1;32m    228\u001b[0m \u001b[39m   moment            -- Central moment\u001b[39;00m\n\u001b[1;32m    229\u001b[0m \u001b[39m   expectile         -- Expectile\u001b[39;00m\n\u001b[1;32m    230\u001b[0m \u001b[39m   skew              -- Skewness\u001b[39;00m\n\u001b[1;32m    231\u001b[0m \u001b[39m   kstat             --\u001b[39;00m\n\u001b[1;32m    232\u001b[0m \u001b[39m   kstatvar          --\u001b[39;00m\n\u001b[1;32m    233\u001b[0m \u001b[39m   tmean             -- Truncated arithmetic mean\u001b[39;00m\n\u001b[1;32m    234\u001b[0m \u001b[39m   tvar              -- Truncated variance\u001b[39;00m\n\u001b[1;32m    235\u001b[0m \u001b[39m   tmin              --\u001b[39;00m\n\u001b[1;32m    236\u001b[0m \u001b[39m   tmax              --\u001b[39;00m\n\u001b[1;32m    237\u001b[0m \u001b[39m   tstd              --\u001b[39;00m\n\u001b[1;32m    238\u001b[0m \u001b[39m   tsem              --\u001b[39;00m\n\u001b[1;32m    239\u001b[0m \u001b[39m   variation         -- Coefficient of variation\u001b[39;00m\n\u001b[1;32m    240\u001b[0m \u001b[39m   find_repeats\u001b[39;00m\n\u001b[1;32m    241\u001b[0m \u001b[39m   trim_mean\u001b[39;00m\n\u001b[1;32m    242\u001b[0m \u001b[39m   gstd              -- Geometric Standard Deviation\u001b[39;00m\n\u001b[1;32m    243\u001b[0m \u001b[39m   iqr\u001b[39;00m\n\u001b[1;32m    244\u001b[0m \u001b[39m   sem\u001b[39;00m\n\u001b[1;32m    245\u001b[0m \u001b[39m   bayes_mvs\u001b[39;00m\n\u001b[1;32m    246\u001b[0m \u001b[39m   mvsdist\u001b[39;00m\n\u001b[1;32m    247\u001b[0m \u001b[39m   entropy\u001b[39;00m\n\u001b[1;32m    248\u001b[0m \u001b[39m   differential_entropy\u001b[39;00m\n\u001b[1;32m    249\u001b[0m \u001b[39m   median_abs_deviation\u001b[39;00m\n\u001b[1;32m    250\u001b[0m \n\u001b[1;32m    251\u001b[0m \u001b[39mFrequency statistics\u001b[39;00m\n\u001b[1;32m    252\u001b[0m \u001b[39m====================\u001b[39;00m\n\u001b[1;32m    253\u001b[0m \n\u001b[1;32m    254\u001b[0m \u001b[39m.. autosummary::\u001b[39;00m\n\u001b[1;32m    255\u001b[0m \u001b[39m   :toctree: generated/\u001b[39;00m\n\u001b[1;32m    256\u001b[0m \n\u001b[1;32m    257\u001b[0m \u001b[39m   cumfreq\u001b[39;00m\n\u001b[1;32m    258\u001b[0m \u001b[39m   percentileofscore\u001b[39;00m\n\u001b[1;32m    259\u001b[0m \u001b[39m   scoreatpercentile\u001b[39;00m\n\u001b[1;32m    260\u001b[0m \u001b[39m   relfreq\u001b[39;00m\n\u001b[1;32m    261\u001b[0m \n\u001b[1;32m    262\u001b[0m \u001b[39m.. autosummary::\u001b[39;00m\n\u001b[1;32m    263\u001b[0m \u001b[39m   :toctree: generated/\u001b[39;00m\n\u001b[1;32m    264\u001b[0m \n\u001b[1;32m    265\u001b[0m \u001b[39m   binned_statistic     -- Compute a binned statistic for a set of data.\u001b[39;00m\n\u001b[1;32m    266\u001b[0m \u001b[39m   binned_statistic_2d  -- Compute a 2-D binned statistic for a set of data.\u001b[39;00m\n\u001b[1;32m    267\u001b[0m \u001b[39m   binned_statistic_dd  -- Compute a d-D binned statistic for a set of data.\u001b[39;00m\n\u001b[1;32m    268\u001b[0m \n\u001b[1;32m    269\u001b[0m \u001b[39mCorrelation functions\u001b[39;00m\n\u001b[1;32m    270\u001b[0m \u001b[39m=====================\u001b[39;00m\n\u001b[1;32m    271\u001b[0m \n\u001b[1;32m    272\u001b[0m \u001b[39m.. autosummary::\u001b[39;00m\n\u001b[1;32m    273\u001b[0m \u001b[39m   :toctree: generated/\u001b[39;00m\n\u001b[1;32m    274\u001b[0m \n\u001b[1;32m    275\u001b[0m \u001b[39m   f_oneway\u001b[39;00m\n\u001b[1;32m    276\u001b[0m \u001b[39m   alexandergovern\u001b[39;00m\n\u001b[1;32m    277\u001b[0m \u001b[39m   pearsonr\u001b[39;00m\n\u001b[1;32m    278\u001b[0m \u001b[39m   spearmanr\u001b[39;00m\n\u001b[1;32m    279\u001b[0m \u001b[39m   pointbiserialr\u001b[39;00m\n\u001b[1;32m    280\u001b[0m \u001b[39m   kendalltau\u001b[39;00m\n\u001b[1;32m    281\u001b[0m \u001b[39m   weightedtau\u001b[39;00m\n\u001b[1;32m    282\u001b[0m \u001b[39m   somersd\u001b[39;00m\n\u001b[1;32m    283\u001b[0m \u001b[39m   linregress\u001b[39;00m\n\u001b[1;32m    284\u001b[0m \u001b[39m   siegelslopes\u001b[39;00m\n\u001b[1;32m    285\u001b[0m \u001b[39m   theilslopes\u001b[39;00m\n\u001b[1;32m    286\u001b[0m \u001b[39m   multiscale_graphcorr\u001b[39;00m\n\u001b[1;32m    287\u001b[0m \n\u001b[1;32m    288\u001b[0m \u001b[39mStatistical tests\u001b[39;00m\n\u001b[1;32m    289\u001b[0m \u001b[39m=================\u001b[39;00m\n\u001b[1;32m    290\u001b[0m \n\u001b[1;32m    291\u001b[0m \u001b[39m.. autosummary::\u001b[39;00m\n\u001b[1;32m    292\u001b[0m \u001b[39m   :toctree: generated/\u001b[39;00m\n\u001b[1;32m    293\u001b[0m \n\u001b[1;32m    294\u001b[0m \u001b[39m   ttest_1samp\u001b[39;00m\n\u001b[1;32m    295\u001b[0m \u001b[39m   ttest_ind\u001b[39;00m\n\u001b[1;32m    296\u001b[0m \u001b[39m   ttest_ind_from_stats\u001b[39;00m\n\u001b[1;32m    297\u001b[0m \u001b[39m   ttest_rel\u001b[39;00m\n\u001b[1;32m    298\u001b[0m \u001b[39m   chisquare\u001b[39;00m\n\u001b[1;32m    299\u001b[0m \u001b[39m   cramervonmises\u001b[39;00m\n\u001b[1;32m    300\u001b[0m \u001b[39m   cramervonmises_2samp\u001b[39;00m\n\u001b[1;32m    301\u001b[0m \u001b[39m   power_divergence\u001b[39;00m\n\u001b[1;32m    302\u001b[0m \u001b[39m   kstest\u001b[39;00m\n\u001b[1;32m    303\u001b[0m \u001b[39m   ks_1samp\u001b[39;00m\n\u001b[1;32m    304\u001b[0m \u001b[39m   ks_2samp\u001b[39;00m\n\u001b[1;32m    305\u001b[0m \u001b[39m   epps_singleton_2samp\u001b[39;00m\n\u001b[1;32m    306\u001b[0m \u001b[39m   mannwhitneyu\u001b[39;00m\n\u001b[1;32m    307\u001b[0m \u001b[39m   tiecorrect\u001b[39;00m\n\u001b[1;32m    308\u001b[0m \u001b[39m   rankdata\u001b[39;00m\n\u001b[1;32m    309\u001b[0m \u001b[39m   ranksums\u001b[39;00m\n\u001b[1;32m    310\u001b[0m \u001b[39m   wilcoxon\u001b[39;00m\n\u001b[1;32m    311\u001b[0m \u001b[39m   kruskal\u001b[39;00m\n\u001b[1;32m    312\u001b[0m \u001b[39m   friedmanchisquare\u001b[39;00m\n\u001b[1;32m    313\u001b[0m \u001b[39m   brunnermunzel\u001b[39;00m\n\u001b[1;32m    314\u001b[0m \u001b[39m   combine_pvalues\u001b[39;00m\n\u001b[1;32m    315\u001b[0m \u001b[39m   jarque_bera\u001b[39;00m\n\u001b[1;32m    316\u001b[0m \u001b[39m   page_trend_test\u001b[39;00m\n\u001b[1;32m    317\u001b[0m \u001b[39m   tukey_hsd\u001b[39;00m\n\u001b[1;32m    318\u001b[0m \u001b[39m   poisson_means_test\u001b[39;00m\n\u001b[1;32m    319\u001b[0m \n\u001b[1;32m    320\u001b[0m \u001b[39m.. autosummary::\u001b[39;00m\n\u001b[1;32m    321\u001b[0m \u001b[39m   :toctree: generated/\u001b[39;00m\n\u001b[1;32m    322\u001b[0m \n\u001b[1;32m    323\u001b[0m \u001b[39m   ansari\u001b[39;00m\n\u001b[1;32m    324\u001b[0m \u001b[39m   bartlett\u001b[39;00m\n\u001b[1;32m    325\u001b[0m \u001b[39m   levene\u001b[39;00m\n\u001b[1;32m    326\u001b[0m \u001b[39m   shapiro\u001b[39;00m\n\u001b[1;32m    327\u001b[0m \u001b[39m   anderson\u001b[39;00m\n\u001b[1;32m    328\u001b[0m \u001b[39m   anderson_ksamp\u001b[39;00m\n\u001b[1;32m    329\u001b[0m \u001b[39m   binom_test\u001b[39;00m\n\u001b[1;32m    330\u001b[0m \u001b[39m   binomtest\u001b[39;00m\n\u001b[1;32m    331\u001b[0m \u001b[39m   fligner\u001b[39;00m\n\u001b[1;32m    332\u001b[0m \u001b[39m   median_test\u001b[39;00m\n\u001b[1;32m    333\u001b[0m \u001b[39m   mood\u001b[39;00m\n\u001b[1;32m    334\u001b[0m \u001b[39m   skewtest\u001b[39;00m\n\u001b[1;32m    335\u001b[0m \u001b[39m   kurtosistest\u001b[39;00m\n\u001b[1;32m    336\u001b[0m \u001b[39m   normaltest\u001b[39;00m\n\u001b[1;32m    337\u001b[0m \u001b[39m   goodness_of_fit\u001b[39;00m\n\u001b[1;32m    338\u001b[0m \n\u001b[1;32m    339\u001b[0m \n\u001b[1;32m    340\u001b[0m \u001b[39mQuasi-Monte Carlo\u001b[39;00m\n\u001b[1;32m    341\u001b[0m \u001b[39m=================\u001b[39;00m\n\u001b[1;32m    342\u001b[0m \n\u001b[1;32m    343\u001b[0m \u001b[39m.. toctree::\u001b[39;00m\n\u001b[1;32m    344\u001b[0m \u001b[39m   :maxdepth: 4\u001b[39;00m\n\u001b[1;32m    345\u001b[0m \n\u001b[1;32m    346\u001b[0m \u001b[39m   stats.qmc\u001b[39;00m\n\u001b[1;32m    347\u001b[0m \n\u001b[1;32m    348\u001b[0m \u001b[39mResampling Methods\u001b[39;00m\n\u001b[1;32m    349\u001b[0m \u001b[39m==================\u001b[39;00m\n\u001b[1;32m    350\u001b[0m \n\u001b[1;32m    351\u001b[0m \u001b[39m.. autosummary::\u001b[39;00m\n\u001b[1;32m    352\u001b[0m \u001b[39m   :toctree: generated/\u001b[39;00m\n\u001b[1;32m    353\u001b[0m \n\u001b[1;32m    354\u001b[0m \u001b[39m   bootstrap\u001b[39;00m\n\u001b[1;32m    355\u001b[0m \u001b[39m   permutation_test\u001b[39;00m\n\u001b[1;32m    356\u001b[0m \u001b[39m   monte_carlo_test\u001b[39;00m\n\u001b[1;32m    357\u001b[0m \n\u001b[1;32m    358\u001b[0m \u001b[39mMasked statistics functions\u001b[39;00m\n\u001b[1;32m    359\u001b[0m \u001b[39m===========================\u001b[39;00m\n\u001b[1;32m    360\u001b[0m \n\u001b[1;32m    361\u001b[0m \u001b[39m.. toctree::\u001b[39;00m\n\u001b[1;32m    362\u001b[0m \n\u001b[1;32m    363\u001b[0m \u001b[39m   stats.mstats\u001b[39;00m\n\u001b[1;32m    364\u001b[0m \n\u001b[1;32m    365\u001b[0m \n\u001b[1;32m    366\u001b[0m \u001b[39mOther statistical functionality\u001b[39;00m\n\u001b[1;32m    367\u001b[0m \u001b[39m===============================\u001b[39;00m\n\u001b[1;32m    368\u001b[0m \n\u001b[1;32m    369\u001b[0m \u001b[39mTransformations\u001b[39;00m\n\u001b[1;32m    370\u001b[0m \u001b[39m---------------\u001b[39;00m\n\u001b[1;32m    371\u001b[0m \n\u001b[1;32m    372\u001b[0m \u001b[39m.. autosummary::\u001b[39;00m\n\u001b[1;32m    373\u001b[0m \u001b[39m   :toctree: generated/\u001b[39;00m\n\u001b[1;32m    374\u001b[0m \n\u001b[1;32m    375\u001b[0m \u001b[39m   boxcox\u001b[39;00m\n\u001b[1;32m    376\u001b[0m \u001b[39m   boxcox_normmax\u001b[39;00m\n\u001b[1;32m    377\u001b[0m \u001b[39m   boxcox_llf\u001b[39;00m\n\u001b[1;32m    378\u001b[0m \u001b[39m   yeojohnson\u001b[39;00m\n\u001b[1;32m    379\u001b[0m \u001b[39m   yeojohnson_normmax\u001b[39;00m\n\u001b[1;32m    380\u001b[0m \u001b[39m   yeojohnson_llf\u001b[39;00m\n\u001b[1;32m    381\u001b[0m \u001b[39m   obrientransform\u001b[39;00m\n\u001b[1;32m    382\u001b[0m \u001b[39m   sigmaclip\u001b[39;00m\n\u001b[1;32m    383\u001b[0m \u001b[39m   trimboth\u001b[39;00m\n\u001b[1;32m    384\u001b[0m \u001b[39m   trim1\u001b[39;00m\n\u001b[1;32m    385\u001b[0m \u001b[39m   zmap\u001b[39;00m\n\u001b[1;32m    386\u001b[0m \u001b[39m   zscore\u001b[39;00m\n\u001b[1;32m    387\u001b[0m \u001b[39m   gzscore\u001b[39;00m\n\u001b[1;32m    388\u001b[0m \n\u001b[1;32m    389\u001b[0m \u001b[39mStatistical distances\u001b[39;00m\n\u001b[1;32m    390\u001b[0m \u001b[39m---------------------\u001b[39;00m\n\u001b[1;32m    391\u001b[0m \n\u001b[1;32m    392\u001b[0m \u001b[39m.. autosummary::\u001b[39;00m\n\u001b[1;32m    393\u001b[0m \u001b[39m   :toctree: generated/\u001b[39;00m\n\u001b[1;32m    394\u001b[0m \n\u001b[1;32m    395\u001b[0m \u001b[39m   wasserstein_distance\u001b[39;00m\n\u001b[1;32m    396\u001b[0m \u001b[39m   energy_distance\u001b[39;00m\n\u001b[1;32m    397\u001b[0m \n\u001b[1;32m    398\u001b[0m \u001b[39mSampling\u001b[39;00m\n\u001b[1;32m    399\u001b[0m \u001b[39m--------\u001b[39;00m\n\u001b[1;32m    400\u001b[0m \n\u001b[1;32m    401\u001b[0m \u001b[39m.. toctree::\u001b[39;00m\n\u001b[1;32m    402\u001b[0m \u001b[39m   :maxdepth: 4\u001b[39;00m\n\u001b[1;32m    403\u001b[0m \n\u001b[1;32m    404\u001b[0m \u001b[39m   stats.sampling\u001b[39;00m\n\u001b[1;32m    405\u001b[0m \n\u001b[1;32m    406\u001b[0m \u001b[39mRandom variate generation / CDF Inversion\u001b[39;00m\n\u001b[1;32m    407\u001b[0m \u001b[39m-----------------------------------------\u001b[39;00m\n\u001b[1;32m    408\u001b[0m \n\u001b[1;32m    409\u001b[0m \u001b[39m.. autosummary::\u001b[39;00m\n\u001b[1;32m    410\u001b[0m \u001b[39m   :toctree: generated/\u001b[39;00m\n\u001b[1;32m    411\u001b[0m \n\u001b[1;32m    412\u001b[0m \u001b[39m   rvs_ratio_uniforms\u001b[39;00m\n\u001b[1;32m    413\u001b[0m \n\u001b[1;32m    414\u001b[0m \u001b[39mDistribution Fitting\u001b[39;00m\n\u001b[1;32m    415\u001b[0m \u001b[39m--------------------\u001b[39;00m\n\u001b[1;32m    416\u001b[0m \n\u001b[1;32m    417\u001b[0m \u001b[39m.. autosummary::\u001b[39;00m\n\u001b[1;32m    418\u001b[0m \u001b[39m   :toctree: generated/\u001b[39;00m\n\u001b[1;32m    419\u001b[0m \n\u001b[1;32m    420\u001b[0m \u001b[39m   fit\u001b[39;00m\n\u001b[1;32m    421\u001b[0m \n\u001b[1;32m    422\u001b[0m \u001b[39mDirectional statistical functions\u001b[39;00m\n\u001b[1;32m    423\u001b[0m \u001b[39m---------------------------------\u001b[39;00m\n\u001b[1;32m    424\u001b[0m \n\u001b[1;32m    425\u001b[0m \u001b[39m.. autosummary::\u001b[39;00m\n\u001b[1;32m    426\u001b[0m \u001b[39m   :toctree: generated/\u001b[39;00m\n\u001b[1;32m    427\u001b[0m \n\u001b[1;32m    428\u001b[0m \u001b[39m   directional_stats\u001b[39;00m\n\u001b[1;32m    429\u001b[0m \u001b[39m   circmean\u001b[39;00m\n\u001b[1;32m    430\u001b[0m \u001b[39m   circvar\u001b[39;00m\n\u001b[1;32m    431\u001b[0m \u001b[39m   circstd\u001b[39;00m\n\u001b[1;32m    432\u001b[0m \n\u001b[1;32m    433\u001b[0m \u001b[39mContingency table functions\u001b[39;00m\n\u001b[1;32m    434\u001b[0m \u001b[39m---------------------------\u001b[39;00m\n\u001b[1;32m    435\u001b[0m \n\u001b[1;32m    436\u001b[0m \u001b[39m.. autosummary::\u001b[39;00m\n\u001b[1;32m    437\u001b[0m \u001b[39m   :toctree: generated/\u001b[39;00m\n\u001b[1;32m    438\u001b[0m \n\u001b[1;32m    439\u001b[0m \u001b[39m   chi2_contingency\u001b[39;00m\n\u001b[1;32m    440\u001b[0m \u001b[39m   contingency.crosstab\u001b[39;00m\n\u001b[1;32m    441\u001b[0m \u001b[39m   contingency.expected_freq\u001b[39;00m\n\u001b[1;32m    442\u001b[0m \u001b[39m   contingency.margins\u001b[39;00m\n\u001b[1;32m    443\u001b[0m \u001b[39m   contingency.relative_risk\u001b[39;00m\n\u001b[1;32m    444\u001b[0m \u001b[39m   contingency.association\u001b[39;00m\n\u001b[1;32m    445\u001b[0m \u001b[39m   contingency.odds_ratio\u001b[39;00m\n\u001b[1;32m    446\u001b[0m \u001b[39m   fisher_exact\u001b[39;00m\n\u001b[1;32m    447\u001b[0m \u001b[39m   barnard_exact\u001b[39;00m\n\u001b[1;32m    448\u001b[0m \u001b[39m   boschloo_exact\u001b[39;00m\n\u001b[1;32m    449\u001b[0m \n\u001b[1;32m    450\u001b[0m \u001b[39mPlot-tests\u001b[39;00m\n\u001b[1;32m    451\u001b[0m \u001b[39m----------\u001b[39;00m\n\u001b[1;32m    452\u001b[0m \n\u001b[1;32m    453\u001b[0m \u001b[39m.. autosummary::\u001b[39;00m\n\u001b[1;32m    454\u001b[0m \u001b[39m   :toctree: generated/\u001b[39;00m\n\u001b[1;32m    455\u001b[0m \n\u001b[1;32m    456\u001b[0m \u001b[39m   ppcc_max\u001b[39;00m\n\u001b[1;32m    457\u001b[0m \u001b[39m   ppcc_plot\u001b[39;00m\n\u001b[1;32m    458\u001b[0m \u001b[39m   probplot\u001b[39;00m\n\u001b[1;32m    459\u001b[0m \u001b[39m   boxcox_normplot\u001b[39;00m\n\u001b[1;32m    460\u001b[0m \u001b[39m   yeojohnson_normplot\u001b[39;00m\n\u001b[1;32m    461\u001b[0m \n\u001b[1;32m    462\u001b[0m \u001b[39mUnivariate and multivariate kernel density estimation\u001b[39;00m\n\u001b[1;32m    463\u001b[0m \u001b[39m-----------------------------------------------------\u001b[39;00m\n\u001b[1;32m    464\u001b[0m \n\u001b[1;32m    465\u001b[0m \u001b[39m.. autosummary::\u001b[39;00m\n\u001b[1;32m    466\u001b[0m \u001b[39m   :toctree: generated/\u001b[39;00m\n\u001b[0;32m--> 467\u001b[0m \n\u001b[1;32m    468\u001b[0m \u001b[39m   gaussian_kde\u001b[39;00m\n\u001b[1;32m    469\u001b[0m \n\u001b[1;32m    470\u001b[0m \u001b[39mWarnings / Errors used in :mod:`scipy.stats`\u001b[39;00m\n\u001b[1;32m    471\u001b[0m \u001b[39m--------------------------------------------\u001b[39;00m\n\u001b[1;32m    472\u001b[0m \n\u001b[1;32m    473\u001b[0m \u001b[39m.. autosummary::\u001b[39;00m\n\u001b[1;32m    474\u001b[0m \u001b[39m   :toctree: generated/\u001b[39;00m\n\u001b[1;32m    475\u001b[0m \n\u001b[1;32m    476\u001b[0m \u001b[39m   DegenerateDataWarning\u001b[39;00m\n\u001b[1;32m    477\u001b[0m \u001b[39m   ConstantInputWarning\u001b[39;00m\n\u001b[1;32m    478\u001b[0m \u001b[39m   NearConstantInputWarning\u001b[39;00m\n\u001b[1;32m    479\u001b[0m \u001b[39m   FitError\u001b[39;00m\n\u001b[1;32m    480\u001b[0m \n\u001b[1;32m    481\u001b[0m \u001b[39m\"\"\"\u001b[39;00m\n\u001b[1;32m    483\u001b[0m \u001b[39mfrom\u001b[39;00m \u001b[39m.\u001b[39;00m\u001b[39m_warnings_errors\u001b[39;00m \u001b[39mimport\u001b[39;00m (ConstantInputWarning, NearConstantInputWarning,\n\u001b[1;32m    484\u001b[0m                                DegenerateDataWarning, FitError)\n\u001b[1;32m    485\u001b[0m \u001b[39mfrom\u001b[39;00m \u001b[39m.\u001b[39;00m\u001b[39m_stats_py\u001b[39;00m \u001b[39mimport\u001b[39;00m \u001b[39m*\u001b[39m\n",
      "File \u001b[0;32m~/.local/lib/python3.10/site-packages/scipy/stats/_stats_py.py:37\u001b[0m, in \u001b[0;36m<module>\u001b[0;34m\u001b[0m\n\u001b[1;32m     35\u001b[0m \u001b[39mfrom\u001b[39;00m \u001b[39mnumpy\u001b[39;00m \u001b[39mimport\u001b[39;00m array, asarray, ma\n\u001b[1;32m     36\u001b[0m \u001b[39mfrom\u001b[39;00m \u001b[39mnumpy\u001b[39;00m\u001b[39m.\u001b[39;00m\u001b[39mlib\u001b[39;00m \u001b[39mimport\u001b[39;00m NumpyVersion\n\u001b[0;32m---> 37\u001b[0m \u001b[39mfrom\u001b[39;00m \u001b[39mnumpy\u001b[39;00m\u001b[39m.\u001b[39;00m\u001b[39mtesting\u001b[39;00m \u001b[39mimport\u001b[39;00m suppress_warnings\n\u001b[1;32m     39\u001b[0m \u001b[39mfrom\u001b[39;00m \u001b[39mscipy\u001b[39;00m\u001b[39m.\u001b[39;00m\u001b[39mspatial\u001b[39;00m\u001b[39m.\u001b[39;00m\u001b[39mdistance\u001b[39;00m \u001b[39mimport\u001b[39;00m cdist\n\u001b[1;32m     40\u001b[0m \u001b[39mfrom\u001b[39;00m \u001b[39mscipy\u001b[39;00m\u001b[39m.\u001b[39;00m\u001b[39mndimage\u001b[39;00m \u001b[39mimport\u001b[39;00m _measurements\n",
      "File \u001b[0;32m~/.local/lib/python3.10/site-packages/numpy/testing/__init__.py:10\u001b[0m, in \u001b[0;36m<module>\u001b[0;34m\u001b[0m\n\u001b[1;32m      1\u001b[0m \u001b[39m\"\"\"Common test support for all numpy test scripts.\u001b[39;00m\n\u001b[1;32m      2\u001b[0m \n\u001b[1;32m      3\u001b[0m \u001b[39mThis single module should provide all the common functionality for numpy tests\u001b[39;00m\n\u001b[0;32m   (...)\u001b[0m\n\u001b[1;32m      6\u001b[0m \n\u001b[1;32m      7\u001b[0m \u001b[39m\"\"\"\u001b[39;00m\n\u001b[1;32m      8\u001b[0m \u001b[39mfrom\u001b[39;00m \u001b[39munittest\u001b[39;00m \u001b[39mimport\u001b[39;00m TestCase\n\u001b[0;32m---> 10\u001b[0m \u001b[39mfrom\u001b[39;00m \u001b[39m.\u001b[39;00m \u001b[39mimport\u001b[39;00m _private\n\u001b[1;32m     11\u001b[0m \u001b[39mfrom\u001b[39;00m \u001b[39m.\u001b[39;00m\u001b[39m_private\u001b[39;00m\u001b[39m.\u001b[39;00m\u001b[39mutils\u001b[39;00m \u001b[39mimport\u001b[39;00m \u001b[39m*\u001b[39m\n\u001b[1;32m     12\u001b[0m \u001b[39mfrom\u001b[39;00m \u001b[39m.\u001b[39;00m\u001b[39m_private\u001b[39;00m\u001b[39m.\u001b[39;00m\u001b[39mutils\u001b[39;00m \u001b[39mimport\u001b[39;00m (_assert_valid_refcount, _gen_alignment_data)\n",
      "File \u001b[0;32m~/.local/lib/python3.10/site-packages/numpy/testing/_private/utils.py:23\u001b[0m, in \u001b[0;36m<module>\u001b[0;34m\u001b[0m\n\u001b[1;32m     20\u001b[0m \u001b[39mimport\u001b[39;00m \u001b[39mnumpy\u001b[39;00m \u001b[39mas\u001b[39;00m \u001b[39mnp\u001b[39;00m\n\u001b[1;32m     21\u001b[0m \u001b[39mfrom\u001b[39;00m \u001b[39mnumpy\u001b[39;00m\u001b[39m.\u001b[39;00m\u001b[39mcore\u001b[39;00m \u001b[39mimport\u001b[39;00m(\n\u001b[1;32m     22\u001b[0m      intp, float32, empty, arange, array_repr, ndarray, isnat, array)\n\u001b[0;32m---> 23\u001b[0m \u001b[39mimport\u001b[39;00m \u001b[39mnumpy\u001b[39;00m\u001b[39m.\u001b[39;00m\u001b[39mlinalg\u001b[39;00m\u001b[39m.\u001b[39;00m\u001b[39mlapack_lite\u001b[39;00m\n\u001b[1;32m     25\u001b[0m \u001b[39mfrom\u001b[39;00m \u001b[39mio\u001b[39;00m \u001b[39mimport\u001b[39;00m StringIO\n\u001b[1;32m     27\u001b[0m __all__ \u001b[39m=\u001b[39m [\n\u001b[1;32m     28\u001b[0m         \u001b[39m'\u001b[39m\u001b[39massert_equal\u001b[39m\u001b[39m'\u001b[39m, \u001b[39m'\u001b[39m\u001b[39massert_almost_equal\u001b[39m\u001b[39m'\u001b[39m, \u001b[39m'\u001b[39m\u001b[39massert_approx_equal\u001b[39m\u001b[39m'\u001b[39m,\n\u001b[1;32m     29\u001b[0m         \u001b[39m'\u001b[39m\u001b[39massert_array_equal\u001b[39m\u001b[39m'\u001b[39m, \u001b[39m'\u001b[39m\u001b[39massert_array_less\u001b[39m\u001b[39m'\u001b[39m, \u001b[39m'\u001b[39m\u001b[39massert_string_equal\u001b[39m\u001b[39m'\u001b[39m,\n\u001b[0;32m   (...)\u001b[0m\n\u001b[1;32m     39\u001b[0m         \u001b[39m'\u001b[39m\u001b[39m_OLD_PROMOTION\u001b[39m\u001b[39m'\u001b[39m\n\u001b[1;32m     40\u001b[0m         ]\n",
      "\u001b[0;31mImportError\u001b[0m: numpy.core.multiarray failed to import"
     ]
    }
   ],
   "source": [
    "from sklearn.feature_extraction.text import TfidfVectorizer\n",
    "from sklearn.linear_model import LogisticRegression\n",
    "from sklearn.pipeline import Pipeline\n",
    "from sklearn.model_selection import train_test_split\n",
    "\n",
    "# Split the dataset into training and testing sets\n",
    "X_train, X_test, y_train, y_test = train_test_split(df['tweet'], df['target'], test_size=0.2, random_state=42)\n",
    "\n",
    "# Create a pipeline that vectorizes the tweets, then trains a model\n",
    "pipeline = Pipeline([\n",
    "    ('tfidf', TfidfVectorizer(stop_words='english')),\n",
    "    ('clf', LogisticRegression())\n",
    "])\n",
    "\n",
    "# Train the model\n",
    "pipeline.fit(X_train, y_train)\n",
    "\n",
    "# Evaluate the model on the test set\n",
    "y_pred = pipeline.predict(X_test)\n",
    "accuracy = (y_pred == y_test).mean()\n",
    "print(f\"Test accuracy: {accuracy:.3f}\")\n"
   ]
  },
  {
   "cell_type": "code",
   "execution_count": null,
   "metadata": {},
   "outputs": [],
   "source": [
    "# Make predictions and evaluate the model\n",
    "from sklearn.metrics import classification_report, confusion_matrix, accuracy_score, f1_score, precision_score, recall_score\n",
    "\n",
    "predictions = pipeline.predict(X_test)\n",
    "print(classification_report(y_test, predictions))\n",
    "print('Confusion Matrix: ', confusion_matrix(y_test, predictions))\n",
    "print('Accuracy: ', accuracy_score(y_test, predictions))\n",
    "print('F1 Score: ', f1_score(y_test, predictions))\n",
    "print('Precision: ', precision_score(y_test, predictions))\n",
    "print('Recall: ', recall_score(y_test, predictions))\n"
   ]
  }
 ],
 "metadata": {
  "kernelspec": {
   "display_name": "Python 3",
   "language": "python",
   "name": "python3"
  },
  "language_info": {
   "codemirror_mode": {
    "name": "ipython",
    "version": 3
   },
   "file_extension": ".py",
   "mimetype": "text/x-python",
   "name": "python",
   "nbconvert_exporter": "python",
   "pygments_lexer": "ipython3",
   "version": "3.10.6"
  },
  "orig_nbformat": 4
 },
 "nbformat": 4,
 "nbformat_minor": 2
}
