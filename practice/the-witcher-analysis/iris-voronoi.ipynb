{
 "cells": [
  {
   "cell_type": "code",
   "execution_count": 1,
   "metadata": {},
   "outputs": [],
   "source": [
    "import numpy as np\n",
    "import pandas as pd\n",
    "import matplotlib.pyplot as plt\n",
    "from sklearn.cluster import KMeans\n",
    "from scipy.spatial import Voronoi, voronoi_plot_2d\n",
    "from sklearn.datasets import load_iris"
   ]
  },
  {
   "cell_type": "code",
   "execution_count": 2,
   "metadata": {},
   "outputs": [],
   "source": [
    "iris = load_iris()\n",
    "data = iris.data\n",
    "target = iris.target"
   ]
  },
  {
   "cell_type": "code",
   "execution_count": 3,
   "metadata": {},
   "outputs": [],
   "source": [
    "vor = Voronoi(data)"
   ]
  },
  {
   "cell_type": "code",
   "execution_count": 4,
   "metadata": {},
   "outputs": [
    {
     "ename": "ValueError",
     "evalue": "Voronoi diagram is not 2-D",
     "output_type": "error",
     "traceback": [
      "\u001b[0;31m---------------------------------------------------------------------------\u001b[0m",
      "\u001b[0;31mValueError\u001b[0m                                Traceback (most recent call last)",
      "\u001b[1;32m/home/espersonnel/Development/lux-dev-data-science/practice/the-witcher-analysis/iris-voronoi.ipynb Cell 4\u001b[0m in \u001b[0;36m<cell line: 1>\u001b[0;34m()\u001b[0m\n\u001b[0;32m----> <a href='vscode-notebook-cell://wsl%2Bubuntu/home/espersonnel/Development/lux-dev-data-science/practice/the-witcher-analysis/iris-voronoi.ipynb#W3sdnNjb2RlLXJlbW90ZQ%3D%3D?line=0'>1</a>\u001b[0m voronoi_plot_2d(vor)\n\u001b[1;32m      <a href='vscode-notebook-cell://wsl%2Bubuntu/home/espersonnel/Development/lux-dev-data-science/practice/the-witcher-analysis/iris-voronoi.ipynb#W3sdnNjb2RlLXJlbW90ZQ%3D%3D?line=1'>2</a>\u001b[0m plt\u001b[39m.\u001b[39mshow()\n",
      "File \u001b[0;32m<decorator-gen-10>:2\u001b[0m, in \u001b[0;36mvoronoi_plot_2d\u001b[0;34m(vor, ax, **kw)\u001b[0m\n",
      "File \u001b[0;32m~/.local/lib/python3.10/site-packages/scipy/spatial/_plotutils.py:14\u001b[0m, in \u001b[0;36m_held_figure\u001b[0;34m(func, obj, ax, **kw)\u001b[0m\n\u001b[1;32m     12\u001b[0m     fig \u001b[39m=\u001b[39m plt\u001b[39m.\u001b[39mfigure()\n\u001b[1;32m     13\u001b[0m     ax \u001b[39m=\u001b[39m fig\u001b[39m.\u001b[39mgca()\n\u001b[0;32m---> 14\u001b[0m     \u001b[39mreturn\u001b[39;00m func(obj, ax\u001b[39m=\u001b[39;49max, \u001b[39m*\u001b[39;49m\u001b[39m*\u001b[39;49mkw)\n\u001b[1;32m     16\u001b[0m \u001b[39m# As of matplotlib 2.0, the \"hold\" mechanism is deprecated.\u001b[39;00m\n\u001b[1;32m     17\u001b[0m \u001b[39m# When matplotlib 1.x is no longer supported, this check can be removed.\u001b[39;00m\n\u001b[1;32m     18\u001b[0m was_held \u001b[39m=\u001b[39m \u001b[39mgetattr\u001b[39m(ax, \u001b[39m'\u001b[39m\u001b[39mishold\u001b[39m\u001b[39m'\u001b[39m, \u001b[39mlambda\u001b[39;00m: \u001b[39mTrue\u001b[39;00m)()\n",
      "File \u001b[0;32m~/.local/lib/python3.10/site-packages/scipy/spatial/_plotutils.py:215\u001b[0m, in \u001b[0;36mvoronoi_plot_2d\u001b[0;34m(vor, ax, **kw)\u001b[0m\n\u001b[1;32m    212\u001b[0m \u001b[39mfrom\u001b[39;00m \u001b[39mmatplotlib\u001b[39;00m\u001b[39m.\u001b[39;00m\u001b[39mcollections\u001b[39;00m \u001b[39mimport\u001b[39;00m LineCollection\n\u001b[1;32m    214\u001b[0m \u001b[39mif\u001b[39;00m vor\u001b[39m.\u001b[39mpoints\u001b[39m.\u001b[39mshape[\u001b[39m1\u001b[39m] \u001b[39m!=\u001b[39m \u001b[39m2\u001b[39m:\n\u001b[0;32m--> 215\u001b[0m     \u001b[39mraise\u001b[39;00m \u001b[39mValueError\u001b[39;00m(\u001b[39m\"\u001b[39m\u001b[39mVoronoi diagram is not 2-D\u001b[39m\u001b[39m\"\u001b[39m)\n\u001b[1;32m    217\u001b[0m \u001b[39mif\u001b[39;00m kw\u001b[39m.\u001b[39mget(\u001b[39m'\u001b[39m\u001b[39mshow_points\u001b[39m\u001b[39m'\u001b[39m, \u001b[39mTrue\u001b[39;00m):\n\u001b[1;32m    218\u001b[0m     point_size \u001b[39m=\u001b[39m kw\u001b[39m.\u001b[39mget(\u001b[39m'\u001b[39m\u001b[39mpoint_size\u001b[39m\u001b[39m'\u001b[39m, \u001b[39mNone\u001b[39;00m)\n",
      "\u001b[0;31mValueError\u001b[0m: Voronoi diagram is not 2-D"
     ]
    },
    {
     "data": {
      "image/png": "[encoded data removed]",
      "text/plain": [
       "<Figure size 432x288 with 1 Axes>"
      ]
     },
     "metadata": {
      "needs_background": "light"
     },
     "output_type": "display_data"
    }
   ],
   "source": [
    "voronoi_plot_2d(vor)\n",
    "plt.show()"
   ]
  },
  {
   "cell_type": "code",
   "execution_count": null,
   "metadata": {},
   "outputs": [],
   "source": [
    "centroids = np.array([vor.vertices[c] for c in vor.regions[vor.point_region]])\n",
    "cluster_ids = KMeans(n_clusters=3).fit_predict(centroids)"
   ]
  },
  {
   "cell_type": "code",
   "execution_count": null,
   "metadata": {},
   "outputs": [],
   "source": [
    "fig, ax = plt.subplots(figsize=(10, 10))\n",
    "colors = ['red', 'blue', 'green']\n",
    "for i, point in enumerate(data):\n",
    "    idx = np.argmin(np.linalg.norm(centroids - point, axis=1))\n",
    "    ax.scatter(point[0], point[1], color=colors[cluster_ids[idx]], alpha=0.5)\n",
    "ax.scatter(centroids[:, 0], centroids[:, 1], c='black', marker='x')\n",
    "plt.show()\n"
   ]
  },
  {
   "cell_type": "code",
   "execution_count": null,
   "metadata": {},
   "outputs": [],
   "source": []
  }
 ],
 "metadata": {
  "kernelspec": {
   "display_name": "Python 3",
   "language": "python",
   "name": "python3"
  },
  "language_info": {
   "codemirror_mode": {
    "name": "ipython",
    "version": 3
   },
   "file_extension": ".py",
   "mimetype": "text/x-python",
   "name": "python",
   "nbconvert_exporter": "python",
   "pygments_lexer": "ipython3",
   "version": "3.10.6"
  },
  "orig_nbformat": 4
 },
 "nbformat": 4,
 "nbformat_minor": 2
}
