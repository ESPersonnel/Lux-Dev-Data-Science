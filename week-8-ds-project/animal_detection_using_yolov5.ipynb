{
 "cells": [
  {
   "cell_type": "code",
   "execution_count": 1,
   "metadata": {},
   "outputs": [
    {
     "ename": "ImportError",
     "evalue": "cannot import name 'scale_coords' from 'yolov5.utils.general' (/home/espersonnel/.local/lib/python3.10/site-packages/yolov5/utils/general.py)",
     "output_type": "error",
     "traceback": [
      "\u001b[0;31m---------------------------------------------------------------------------\u001b[0m",
      "\u001b[0;31mImportError\u001b[0m                               Traceback (most recent call last)",
      "\u001b[1;32m/home/espersonnel/Development/lux-dev-data-science/week-8-ds-project/animal_detection_using_yolov5.ipynb Cell 1\u001b[0m in \u001b[0;36m<cell line: 9>\u001b[0;34m()\u001b[0m\n\u001b[1;32m      <a href='vscode-notebook-cell://wsl%2Bubuntu/home/espersonnel/Development/lux-dev-data-science/week-8-ds-project/animal_detection_using_yolov5.ipynb#W0sdnNjb2RlLXJlbW90ZQ%3D%3D?line=6'>7</a>\u001b[0m \u001b[39mimport\u001b[39;00m \u001b[39mtorch\u001b[39;00m\n\u001b[1;32m      <a href='vscode-notebook-cell://wsl%2Bubuntu/home/espersonnel/Development/lux-dev-data-science/week-8-ds-project/animal_detection_using_yolov5.ipynb#W0sdnNjb2RlLXJlbW90ZQ%3D%3D?line=7'>8</a>\u001b[0m \u001b[39mfrom\u001b[39;00m \u001b[39myolov5\u001b[39;00m\u001b[39m.\u001b[39;00m\u001b[39mmodels\u001b[39;00m\u001b[39m.\u001b[39;00m\u001b[39mexperimental\u001b[39;00m \u001b[39mimport\u001b[39;00m attempt_load\n\u001b[0;32m----> <a href='vscode-notebook-cell://wsl%2Bubuntu/home/espersonnel/Development/lux-dev-data-science/week-8-ds-project/animal_detection_using_yolov5.ipynb#W0sdnNjb2RlLXJlbW90ZQ%3D%3D?line=8'>9</a>\u001b[0m \u001b[39mfrom\u001b[39;00m \u001b[39myolov5\u001b[39;00m\u001b[39m.\u001b[39;00m\u001b[39mutils\u001b[39;00m\u001b[39m.\u001b[39;00m\u001b[39mgeneral\u001b[39;00m \u001b[39mimport\u001b[39;00m non_max_suppression, scale_coords\n\u001b[1;32m     <a href='vscode-notebook-cell://wsl%2Bubuntu/home/espersonnel/Development/lux-dev-data-science/week-8-ds-project/animal_detection_using_yolov5.ipynb#W0sdnNjb2RlLXJlbW90ZQ%3D%3D?line=9'>10</a>\u001b[0m \u001b[39mfrom\u001b[39;00m \u001b[39myolov5\u001b[39;00m\u001b[39m.\u001b[39;00m\u001b[39mutils\u001b[39;00m\u001b[39m.\u001b[39;00m\u001b[39mdatasets\u001b[39;00m \u001b[39mimport\u001b[39;00m letterbox\n\u001b[1;32m     <a href='vscode-notebook-cell://wsl%2Bubuntu/home/espersonnel/Development/lux-dev-data-science/week-8-ds-project/animal_detection_using_yolov5.ipynb#W0sdnNjb2RlLXJlbW90ZQ%3D%3D?line=10'>11</a>\u001b[0m \u001b[39mfrom\u001b[39;00m \u001b[39myolov5\u001b[39;00m\u001b[39m.\u001b[39;00m\u001b[39mutils\u001b[39;00m\u001b[39m.\u001b[39;00m\u001b[39mtorch_utils\u001b[39;00m \u001b[39mimport\u001b[39;00m select_device\n",
      "\u001b[0;31mImportError\u001b[0m: cannot import name 'scale_coords' from 'yolov5.utils.general' (/home/espersonnel/.local/lib/python3.10/site-packages/yolov5/utils/general.py)"
     ]
    }
   ],
   "source": [
    "# Import necessary libraries\n",
    "from flask import Flask, request, jsonify\n",
    "import os\n",
    "import io\n",
    "import base64\n",
    "from PIL import Image\n",
    "import torch\n",
    "from yolov5.models.experimental import attempt_load\n",
    "from yolov5.utils.general import non_max_suppression, scale_coords\n",
    "from yolov5.utils.datasets import letterbox\n",
    "from yolov5.utils.torch_utils import select_device\n",
    "\n",
    "# Initialize Flask app\n",
    "app = Flask(__name__)\n",
    "\n",
    "# Load YOLOv5 model\n",
    "weights = 'yolov5s.pt'  # Path to the YOLOv5 model weights\n",
    "device = 'cpu'  # Use CPU for inference\n",
    "model = attempt_load(weights, map_location=device)\n",
    "model.to(device).eval()\n",
    "\n",
    "# Define classes for animal detection\n",
    "classes = ['dog', 'cat', 'elephant', 'giraffe', 'horse', 'zebra']\n",
    "\n",
    "# Define route for animal detection\n",
    "@app.route('/detect', methods=['POST'])\n",
    "def detect_animals():\n",
    "    # Load image from POST request\n",
    "    img_bytes = request.files['image'].read()\n",
    "    image = Image.open(io.BytesIO(img_bytes))\n",
    "\n",
    "    # Convert image to RGB\n",
    "    image = image.convert('RGB')\n",
    "\n",
    "    # Resize and pad image to maintain aspect ratio\n",
    "    img_size = 640\n",
    "    img = letterbox(image, new_shape=img_size)[0]\n",
    "\n",
    "    # Convert image to tensor\n",
    "    img = torch.from_numpy(img.transpose(2, 0, 1)).float().div(255.0).unsqueeze(0)\n",
    "\n",
    "    # Move image to device\n",
    "    img = img.to(device)\n",
    "\n",
    "    # Perform object detection\n",
    "    with torch.no_grad():\n",
    "        pred = model(img)[0]\n",
    "        pred = non_max_suppression(pred, conf_thres=0.5, iou_thres=0.5)\n",
    "\n",
    "    # Prepare response\n",
    "    response = []\n",
    "    for det in pred[0]:\n",
    "        if det is not None:\n",
    "            # Extract bounding box coordinates and class label\n",
    "            x1, y1, x2, y2, conf, cls = det.tolist()\n",
    "            class_label = classes[int(cls)]\n",
    "            bbox = [x1, y1, x2, y2]\n",
    "\n",
    "            # Append detection to response\n",
    "            detection = {'class': class_label, 'bbox': bbox, 'conf': conf}\n",
    "            response.append(detection)\n",
    "\n",
    "    return jsonify(response)\n",
    "\n",
    "if __name__ == '__main__':\n",
    "    app.run(debug=True)\n"
   ]
  }
 ],
 "metadata": {
  "kernelspec": {
   "display_name": "Python 3",
   "language": "python",
   "name": "python3"
  },
  "language_info": {
   "codemirror_mode": {
    "name": "ipython",
    "version": 3
   },
   "file_extension": ".py",
   "mimetype": "text/x-python",
   "name": "python",
   "nbconvert_exporter": "python",
   "pygments_lexer": "ipython3",
   "version": "3.10.6"
  },
  "orig_nbformat": 4
 },
 "nbformat": 4,
 "nbformat_minor": 2
}
